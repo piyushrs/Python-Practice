{
 "cells": [
  {
   "cell_type": "code",
   "execution_count": 3,
   "metadata": {},
   "outputs": [
    {
     "name": "stdout",
     "output_type": "stream",
     "text": [
      "Hello BUAN 6340 - This is My First Python Program – Piyush Raisinghani\n",
      "I am using Jupyter IDE for Python\n"
     ]
    }
   ],
   "source": [
    "print(\"Hello BUAN 6340 - This is My First Python Program – Piyush Raisinghani\")\n",
    "print(\"I am using Jupyter IDE for Python\")"
   ]
  },
  {
   "cell_type": "code",
   "execution_count": 8,
   "metadata": {},
   "outputs": [
    {
     "name": "stdout",
     "output_type": "stream",
     "text": [
      "My Laptop is: Omen\n",
      "Current time: 2022-05-25 10:59:48.202420\n"
     ]
    }
   ],
   "source": [
    "import socket\n",
    "import datetime\n",
    "print(\"My Laptop is:\", socket.gethostname())\n",
    "print(\"Current time:\", datetime.datetime.Dnow())"
   ]
  }
 ],
 "metadata": {
  "interpreter": {
   "hash": "fa6fc890c19d0518efc3ca8fefe1ab7c2a921b84ac247755bf14d3f8c1bb1ece"
  },
  "kernelspec": {
   "display_name": "Python 3.10.1 64-bit",
   "language": "python",
   "name": "python3"
  },
  "language_info": {
   "codemirror_mode": {
    "name": "ipython",
    "version": 3
   },
   "file_extension": ".py",
   "mimetype": "text/x-python",
   "name": "python",
   "nbconvert_exporter": "python",
   "pygments_lexer": "ipython3",
   "version": "3.10.1"
  },
  "orig_nbformat": 4
 },
 "nbformat": 4,
 "nbformat_minor": 2
}
