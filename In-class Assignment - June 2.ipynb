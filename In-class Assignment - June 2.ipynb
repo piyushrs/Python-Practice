{
 "cells": [
  {
   "cell_type": "code",
   "execution_count": 2,
   "metadata": {},
   "outputs": [],
   "source": [
    "import socket\n",
    "import datetime as dt"
   ]
  },
  {
   "cell_type": "code",
   "execution_count": 5,
   "metadata": {},
   "outputs": [
    {
     "name": "stdout",
     "output_type": "stream",
     "text": [
      "Piyush Raisinghani, Laptop:Piyushs-iPad, Time:2022-06-02 19:40:58.355501\n",
      "=========================================================================\n",
      "Area of the circle with radius 20 = 1256.6000000000001\n"
     ]
    }
   ],
   "source": [
    "print(\"Piyush Raisinghani, Laptop:{0}, Time:{1}\".format(socket.gethostname(), dt.datetime.now()))\n",
    "print(\"=========================================================================\")\n",
    "\n",
    "print(\"Area of the circle with radius 20 =\",20**2*3.1415)"
   ]
  },
  {
   "cell_type": "code",
   "execution_count": 6,
   "metadata": {},
   "outputs": [
    {
     "name": "stdout",
     "output_type": "stream",
     "text": [
      "Piyush Raisinghani, Laptop:Piyushs-iPad, Time:2022-06-02 19:42:33.304933\n",
      "=========================================================================\n",
      "enter radius:10\n",
      "Area of the circle with radius 10 = 314.15000000000003\n"
     ]
    }
   ],
   "source": [
    "print(\"Piyush Raisinghani, Laptop:{0}, Time:{1}\".format(socket.gethostname(), dt.datetime.now()))\n",
    "print(\"=========================================================================\")\n",
    "\n",
    "r = int(input(\"enter radius:\"))\n",
    "print(\"Area of the circle with radius {0} = {1}\".format(r, r*r*3.1415))"
   ]
  },
  {
   "cell_type": "code",
   "execution_count": 12,
   "metadata": {},
   "outputs": [
    {
     "name": "stdout",
     "output_type": "stream",
     "text": [
      "Piyush Raisinghani, Laptop:Piyushs-iPad, Time:2022-06-02 19:50:52.273932\n",
      "=========================================================================\n",
      "Enter the numbers2 3 4\n",
      "Average of the 3 numbers = 3.0\n"
     ]
    }
   ],
   "source": [
    "print(\"Piyush Raisinghani, Laptop:{0}, Time:{1}\".format(socket.gethostname(), dt.datetime.now()))\n",
    "print(\"=========================================================================\")\n",
    "\n",
    "x,y,z = input(\"Enter the numbers\").split()\n",
    "print(\"Average of the 3 numbers = {0}\".format((float(x)+float(y)+float(z))/3))"
   ]
  },
  {
   "cell_type": "code",
   "execution_count": 13,
   "metadata": {},
   "outputs": [
    {
     "name": "stdout",
     "output_type": "stream",
     "text": [
      "Piyush Raisinghani, Laptop:Piyushs-iPad, Time:2022-06-02 19:51:00.865023\n",
      "=========================================================================\n",
      "Enter the numbers3 4 5\n",
      "Average of the 3 numbers = 4.0\n"
     ]
    }
   ],
   "source": [
    "print(\"Piyush Raisinghani, Laptop:{0}, Time:{1}\".format(socket.gethostname(), dt.datetime.now()))\n",
    "print(\"=========================================================================\")\n",
    "\n",
    "x,y,z = input(\"Enter the numbers\").split()\n",
    "print(\"Average of the 3 numbers = {0}\".format((float(x)+float(y)+float(z))/3))"
   ]
  },
  {
   "cell_type": "code",
   "execution_count": 17,
   "metadata": {},
   "outputs": [
    {
     "name": "stdout",
     "output_type": "stream",
     "text": [
      "Piyush Raisinghani, Laptop:Piyushs-iPad, Time:2022-06-02 19:58:51.298206\n",
      "=========================================================================\n",
      "Enter time in seconds:4932\n",
      "4932 seconds is 82 minutes and 12 seconds\n"
     ]
    }
   ],
   "source": [
    "print(\"Piyush Raisinghani, Laptop:{0}, Time:{1}\".format(socket.gethostname(), dt.datetime.now()))\n",
    "print(\"=========================================================================\")\n",
    "\n",
    "sec = int(input(\"Enter time in seconds:\"))\n",
    "print(\"{0} seconds is {1} minutes and {2} seconds\".format(sec, sec//60, sec%60))"
   ]
  },
  {
   "cell_type": "code",
   "execution_count": 20,
   "metadata": {},
   "outputs": [
    {
     "name": "stdout",
     "output_type": "stream",
     "text": [
      "Piyush Raisinghani, Laptop:Piyushs-iPad, Time:2022-06-02 20:09:12.191644\n",
      "=========================================================================\n",
      "Enter a number:10\n",
      "HiFive\n",
      "HiEven\n"
     ]
    }
   ],
   "source": [
    "print(\"Piyush Raisinghani, Laptop:{0}, Time:{1}\".format(socket.gethostname(), dt.datetime.now()))\n",
    "print(\"=========================================================================\")\n",
    "\n",
    "a = int(input(\"Enter a number:\"))\n",
    "if a%5 == 0:\n",
    "    print(\"HiFive\")\n",
    "if a%2==0:\n",
    "    print(\"HiEven\")"
   ]
  },
  {
   "cell_type": "code",
   "execution_count": 18,
   "metadata": {},
   "outputs": [
    {
     "name": "stdout",
     "output_type": "stream",
     "text": [
      "Piyush Raisinghani, Laptop:Piyushs-iPad, Time:2022-06-02 20:04:36.598240\n",
      "=========================================================================\n",
      "Enter year number:2012\n",
      "Dragon\n"
     ]
    }
   ],
   "source": [
    "print(\"Piyush Raisinghani, Laptop:{0}, Time:{1}\".format(socket.gethostname(), dt.datetime.now()))\n",
    "print(\"=========================================================================\")\n",
    "\n",
    "year = int(input(\"Enter year number:\"))\n",
    "if year % 12 == 0:\n",
    "    print(\"Monkey\")\n",
    "elif year % 12 == 1:\n",
    "    print(\"Rooster\")\n",
    "elif year % 12 == 2:\n",
    "    print(\"Dog\")\n",
    "elif year % 12 == 3:\n",
    "    print(\"Pig\")\n",
    "elif year % 12 == 4:\n",
    "    print(\"Rat\")\n",
    "elif year % 12 == 5:\n",
    "    print(\"Ox\")\n",
    "elif year % 12 == 6:\n",
    "    print(\"Tiger\")\n",
    "elif year % 12 == 7:\n",
    "    print(\"Rabbit\")\n",
    "elif year % 12 == 8:\n",
    "    print(\"Dragon\")\n",
    "elif year % 12 == 9:\n",
    "    print(\"Snake\")\n",
    "elif year % 12 == 10:\n",
    "    print(\"Horse\")\n",
    "else:\n",
    "    print(\"Sheep\")"
   ]
  },
  {
   "cell_type": "code",
   "execution_count": 21,
   "metadata": {},
   "outputs": [
    {
     "name": "stdout",
     "output_type": "stream",
     "text": [
      "Piyush Raisinghani, Laptop:Piyushs-iPad, Time:2022-06-02 20:11:21.972868\n",
      "=========================================================================\n",
      "Enter your guess: 40\n",
      "Number is too low\n",
      "Enter your guess: 60\n",
      "Number is too low\n",
      "Enter your guess: 80\n",
      "Number is too low\n",
      "Enter your guess: 90\n",
      "Number is too low\n",
      "Enter your guess: 95\n",
      "Number is too high\n",
      "Enter your guess: 93\n",
      "Number is too high\n",
      "Enter your guess: 91\n",
      "Number is too low\n",
      "Enter your guess: 92\n",
      "You guessed it right!\n"
     ]
    }
   ],
   "source": [
    "print(\"Piyush Raisinghani, Laptop:{0}, Time:{1}\".format(socket.gethostname(), dt.datetime.now()))\n",
    "print(\"=========================================================================\")\n",
    "\n",
    "import random\n",
    "a = random.randrange(0,101)\n",
    "while(True):\n",
    "    num = int(input(\"Enter your guess: \"))\n",
    "    if num == a:\n",
    "        print(\"You guessed it right!\")\n",
    "        break\n",
    "    elif num > a:\n",
    "        print(\"Number is too high\")\n",
    "    elif num < a:\n",
    "        print(\"Number is too low\")"
   ]
  },
  {
   "cell_type": "code",
   "execution_count": 29,
   "metadata": {},
   "outputs": [
    {
     "name": "stdout",
     "output_type": "stream",
     "text": [
      "Piyush Raisinghani, Laptop:Piyushs-iPad, Time:2022-06-02 20:26:59.718390\n",
      "=========================================================================\n",
      "Enter the string: Racecar\n",
      "Palindrome\n"
     ]
    }
   ],
   "source": [
    "print(\"Piyush Raisinghani, Laptop:{0}, Time:{1}\".format(socket.gethostname(), dt.datetime.now()))\n",
    "print(\"=========================================================================\")\n",
    "\n",
    "a = list(input(\"Enter the string: \").lower())\n",
    "print(\"Palindrome\" if a==a[::-1] else \"Not a palindrome\")"
   ]
  },
  {
   "cell_type": "code",
   "execution_count": 41,
   "metadata": {},
   "outputs": [
    {
     "name": "stdout",
     "output_type": "stream",
     "text": [
      "Piyush Raisinghani, Laptop:Piyushs-iPad, Time:2022-06-02 20:48:53.300326\n",
      "=========================================================================\n",
      "2 3 5 7 11 13 17 19 23 29\n",
      "31 37 41 43 47 53 59 61 67 71\n",
      "73 79 83 89 97 101 103 107 109 113\n",
      "127 131 137 139 149 151 157 163 167 173\n"
     ]
    }
   ],
   "source": [
    "print(\"Piyush Raisinghani, Laptop:{0}, Time:{1}\".format(socket.gethostname(), dt.datetime.now()))\n",
    "print(\"=========================================================================\")\n",
    "\n",
    "lower = 1\n",
    "upper = 1000\n",
    "l = []\n",
    "\n",
    "for num in range(lower, upper + 1):\n",
    "   if num > 1:\n",
    "       for i in range(2, num):\n",
    "           if (num % i) == 0:\n",
    "               break\n",
    "       else:\n",
    "            if len(l) == 50:\n",
    "                break\n",
    "            else:\n",
    "                l.append(num)\n",
    "\n",
    "j = 0\n",
    "for i in range(10, len(l), 10):\n",
    "    print(*l[j:i])\n",
    "    j = i"
   ]
  }
 ],
 "metadata": {
  "kernelspec": {
   "display_name": "Python 3 (ipykernel)",
   "language": "python",
   "name": "python3"
  },
  "language_info": {
   "codemirror_mode": {
    "name": "ipython",
    "version": 3
   },
   "file_extension": ".py",
   "mimetype": "text/x-python",
   "name": "python",
   "nbconvert_exporter": "python",
   "pygments_lexer": "ipython3",
   "version": "3.9.10+"
  }
 },
 "nbformat": 4,
 "nbformat_minor": 2
}
