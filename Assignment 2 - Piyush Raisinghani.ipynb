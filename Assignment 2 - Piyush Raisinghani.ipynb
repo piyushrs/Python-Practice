{
 "cells": [
  {
   "cell_type": "code",
   "execution_count": 166,
   "metadata": {},
   "outputs": [],
   "source": [
    "import socket\n",
    "import datetime as dt\n",
    "import pandas as pd\n",
    "import numpy as np\n",
    "import matplotlib.pyplot as plt"
   ]
  },
  {
   "cell_type": "code",
   "execution_count": 45,
   "metadata": {},
   "outputs": [
    {
     "name": "stdout",
     "output_type": "stream",
     "text": [
      "Piyush Raisinghani, Laptop:Omen, Time:2022-06-17 13:07:28.327288\n",
      "=========================================================================\n"
     ]
    },
    {
     "data": {
      "image/png": "[encoded data removed]",
      "text/plain": [
       "<Figure size 432x288 with 1 Axes>"
      ]
     },
     "metadata": {
      "needs_background": "light"
     },
     "output_type": "display_data"
    }
   ],
   "source": [
    "print(\"Piyush Raisinghani, Laptop:{0}, Time:{1}\".format(socket.gethostname(), dt.datetime.now()))\n",
    "print(\"=========================================================================\")\n",
    "\n",
    "ushurr = pd.read_csv(\"us_hurricanes.csv\")\n",
    "plt.bar(ushurr[\"Year\"], ushurr[\"Hurricanes\"], width= 4)\n",
    "plt.yticks([3,6,9,12,15,18],['3H','6H','9H','12H','15H','18H'])\n",
    "plt.title(\"Piyush Raisinghani\")\n",
    "plt.xlabel(\"Year\")\n",
    "plt.ylabel(\"Number of Occurances\")\n",
    "plt.show()"
   ]
  },
  {
   "cell_type": "markdown",
   "metadata": {},
   "source": [
    "2. Read the file called world_city_temp.csv. Plot the histogram of the temperatures over this period for the cities of San Jose and Zurich. Do the same for Zurich and Sidney. Your name should be attached to the Title of the graph."
   ]
  },
  {
   "cell_type": "code",
   "execution_count": 60,
   "metadata": {},
   "outputs": [
    {
     "name": "stdout",
     "output_type": "stream",
     "text": [
      "Piyush Raisinghani, Laptop:Omen, Time:2022-06-17 13:22:26.516727\n",
      "=========================================================================\n"
     ]
    },
    {
     "data": {
      "image/png": "[encoded data removed]",
      "text/plain": [
       "<Figure size 432x288 with 1 Axes>"
      ]
     },
     "metadata": {
      "needs_background": "light"
     },
     "output_type": "display_data"
    }
   ],
   "source": [
    "print(\"Piyush Raisinghani, Laptop:{0}, Time:{1}\".format(socket.gethostname(), dt.datetime.now()))\n",
    "print(\"=========================================================================\")\n",
    "\n",
    "wct = pd.read_csv(\"world_city_temp.csv\")\n",
    "plt.hist(wct[[\"San Jose\", \"Zurich\"]], bins = 10, color= (\"steelblue\",\"green\"))\n",
    "plt.xlabel(\"Temperature\")\n",
    "plt.ylabel(\"Frequency\")\n",
    "plt.title(\"Piyush Raisinghani\")\n",
    "plt.show()"
   ]
  },
  {
   "cell_type": "markdown",
   "metadata": {},
   "source": [
    "3. Read the file called sales_date.csv. Load the data using panda and show full, head and tail of the data as we discussed in the class. Convert the .csv file to excel, text and load it again."
   ]
  },
  {
   "cell_type": "code",
   "execution_count": 3,
   "metadata": {},
   "outputs": [
    {
     "name": "stdout",
     "output_type": "stream",
     "text": [
      "Piyush Raisinghani, Laptop:Omen, Time:2022-06-18 13:25:40.846112\n",
      "=========================================================================\n",
      "Full dataset: \n",
      "     account_number                           name item_code category  \\\n",
      "0            296809                    Carroll PLC  QN-82852     Belt   \n",
      "1             98022              Heidenreich-Bosco  MJ-21460    Shoes   \n",
      "2            563905  Kerluke, Reilly and Bechtelar  AS-93055    Shirt   \n",
      "3             93356                  Waters-Walker  AS-93055    Shirt   \n",
      "4            659366                  Waelchi-Fahey  AS-93055    Shirt   \n",
      "..              ...                            ...       ...      ...   \n",
      "995          758133      Kihn, McClure and Denesik  WJ-02096     Belt   \n",
      "996          850140                      Kunze Inc  GS-86623    Shoes   \n",
      "997           93356                  Waters-Walker  GS-86623    Shoes   \n",
      "998          304860                      Huel-Haag  LL-46261    Shoes   \n",
      "999           98022              Heidenreich-Bosco  LW-86841    Shoes   \n",
      "\n",
      "     quantity  unit price  net_price              date  \n",
      "0          13       44.48     578.24  27-09-2014 07:13  \n",
      "1          19       53.62    1018.78  29-07-2014 02:10  \n",
      "2          12       24.16     289.92    1/3/2014 10:51  \n",
      "3           5       82.68     413.40  17-11-2013 20:41  \n",
      "4          18       99.64    1793.52     3/1/2014 8:14  \n",
      "..        ...         ...        ...               ...  \n",
      "995        11       60.50     665.50    3/8/2014 10:39  \n",
      "996        16       19.66     314.56    3/5/2014 21:18  \n",
      "997        13       90.95    1182.35  14-06-2014 12:43  \n",
      "998         9       98.22     883.98  26-07-2014 01:10  \n",
      "999        14       74.83    1047.62  27-06-2014 05:58  \n",
      "\n",
      "[1000 rows x 8 columns]\n",
      "Head of the dataset: \n",
      "   account_number                           name item_code category  quantity  \\\n",
      "0          296809                    Carroll PLC  QN-82852     Belt        13   \n",
      "1           98022              Heidenreich-Bosco  MJ-21460    Shoes        19   \n",
      "2          563905  Kerluke, Reilly and Bechtelar  AS-93055    Shirt        12   \n",
      "3           93356                  Waters-Walker  AS-93055    Shirt         5   \n",
      "4          659366                  Waelchi-Fahey  AS-93055    Shirt        18   \n",
      "\n",
      "   unit price  net_price              date  \n",
      "0       44.48     578.24  27-09-2014 07:13  \n",
      "1       53.62    1018.78  29-07-2014 02:10  \n",
      "2       24.16     289.92    1/3/2014 10:51  \n",
      "3       82.68     413.40  17-11-2013 20:41  \n",
      "4       99.64    1793.52     3/1/2014 8:14  \n",
      "Tail of the dataset: \n",
      "     account_number                       name item_code category  quantity  \\\n",
      "995          758133  Kihn, McClure and Denesik  WJ-02096     Belt        11   \n",
      "996          850140                  Kunze Inc  GS-86623    Shoes        16   \n",
      "997           93356              Waters-Walker  GS-86623    Shoes        13   \n",
      "998          304860                  Huel-Haag  LL-46261    Shoes         9   \n",
      "999           98022          Heidenreich-Bosco  LW-86841    Shoes        14   \n",
      "\n",
      "     unit price  net_price              date  \n",
      "995       60.50     665.50    3/8/2014 10:39  \n",
      "996       19.66     314.56    3/5/2014 21:18  \n",
      "997       90.95    1182.35  14-06-2014 12:43  \n",
      "998       98.22     883.98  26-07-2014 01:10  \n",
      "999       74.83    1047.62  27-06-2014 05:58  \n"
     ]
    }
   ],
   "source": [
    "print(\"Piyush Raisinghani, Laptop:{0}, Time:{1}\".format(socket.gethostname(), dt.datetime.now()))\n",
    "print(\"=========================================================================\")\n",
    "\n",
    "sales = pd.read_csv(\"sales_data.csv\")\n",
    "print(\"Full dataset: \\n{0}\".format(sales))\n",
    "print(\"Head of the dataset: \\n{0}\".format(sales.head()))\n",
    "print(\"Tail of the dataset: \\n{0}\".format(sales.tail()))\n",
    "sales.to_excel(\"sales_data.xlsx\", sheet_name= \"sales\", index = False)\n",
    "sales.to_csv('sales_data.txt', sep=\" \", index= None)\n",
    "sales_excel = pd.read_excel(\"sales_data.xlsx\")\n",
    "sales_txt = pd.read_csv(\"sales_data.txt\", sep= \" \", header = 'infer')"
   ]
  },
  {
   "cell_type": "markdown",
   "metadata": {},
   "source": [
    "4. From sales_data.csv file,  Calculate count, mean, std, max, min of unit price. "
   ]
  },
  {
   "cell_type": "code",
   "execution_count": 76,
   "metadata": {},
   "outputs": [
    {
     "name": "stdout",
     "output_type": "stream",
     "text": [
      "Piyush Raisinghani, Laptop:Omen, Time:2022-06-17 13:37:57.923979\n",
      "=========================================================================\n",
      "Count, mean, max, std of unit price: \n",
      "count    1000.000000\n",
      "mean       56.179630\n",
      "std        25.331939\n",
      "min        10.060000\n",
      "25%        35.995000\n",
      "50%        56.765000\n",
      "75%        76.802500\n",
      "max        99.970000\n",
      "Name: unit price, dtype: float64\n"
     ]
    }
   ],
   "source": [
    "print(\"Piyush Raisinghani, Laptop:{0}, Time:{1}\".format(socket.gethostname(), dt.datetime.now()))\n",
    "print(\"=========================================================================\")\n",
    "\n",
    "print(\"Count, mean, max, std of unit price: \\n{0}\".format(sales[\"unit price\"].describe()))"
   ]
  },
  {
   "cell_type": "markdown",
   "metadata": {},
   "source": [
    "5. From the sales_data.csv file. Calculate the total sales price by the customer and draw the graph that shows the company on the x-axis and total sales on the y-axis. "
   ]
  },
  {
   "cell_type": "code",
   "execution_count": 67,
   "metadata": {},
   "outputs": [
    {
     "name": "stdout",
     "output_type": "stream",
     "text": [
      "Piyush Raisinghani, Laptop:Omen, Time:2022-06-18 14:47:48.831135\n",
      "=========================================================================\n"
     ]
    },
    {
     "data": {
      "image/png": "[encoded data removed]",
      "text/plain": [
       "<Figure size 432x288 with 1 Axes>"
      ]
     },
     "metadata": {
      "needs_background": "light"
     },
     "output_type": "display_data"
    }
   ],
   "source": [
    "print(\"Piyush Raisinghani, Laptop:{0}, Time:{1}\".format(socket.gethostname(), dt.datetime.now()))\n",
    "print(\"=========================================================================\")\n",
    "output = sales.groupby([\"name\"]).net_price.sum().reset_index()\n",
    "output = output.sort_values(by = [\"net_price\"], ascending= False)\n",
    "plt.bar(output[\"name\"], output[\"net_price\"], color = \"teal\")\n",
    "plt.xlabel(\"Company Names\")\n",
    "plt.ylabel(\"Net Sales\")\n",
    "plt.title(\"Piyush Raisinghani\")\n",
    "plt.xticks(rotation = 90, )\n",
    "plt.show()"
   ]
  },
  {
   "cell_type": "markdown",
   "metadata": {},
   "source": [
    "6. Draw a scatter graph of any 50 random values of the x and y-axis. Use matplotlib library to do this. Increase the font size, Title should have your name and other cosmetic changes to graph to make it more presentable with all labels."
   ]
  },
  {
   "cell_type": "markdown",
   "metadata": {},
   "source": [
    "7. We have the following data\n",
    "First_names = Jason,Molly,Tina,Jake,Amy\n",
    "Last Names  = Miller,Jackson,fey,albert \n",
    "gender      = m,f,f,m,f \n",
    "Age         = 18,20,22,19\n",
    "ACT         = 29,32,31,35\n",
    "SAT         = 1280,1420,1360,1520\n",
    "•\tLoad the data as five columns and five rows \n",
    "•\tDraw a Scatterplot of ACT and SAT scores, with the size of each point determined by age\n",
    "•\tCompare SAT and ACT scores for each person with the percentage of each type. \n",
    " SAT max score is 1600, ACT Max score is 36"
   ]
  },
  {
   "cell_type": "code",
   "execution_count": 85,
   "metadata": {},
   "outputs": [
    {
     "name": "stdout",
     "output_type": "stream",
     "text": [
      "Piyush Raisinghani, Laptop:Omen, Time:2022-06-18 17:49:40.918607\n",
      "=========================================================================\n"
     ]
    },
    {
     "data": {
      "text/html": [
       "<div>\n",
       "<style scoped>\n",
       "    .dataframe tbody tr th:only-of-type {\n",
       "        vertical-align: middle;\n",
       "    }\n",
       "\n",
       "    .dataframe tbody tr th {\n",
       "        vertical-align: top;\n",
       "    }\n",
       "\n",
       "    .dataframe thead th {\n",
       "        text-align: right;\n",
       "    }\n",
       "</style>\n",
       "<table border=\"1\" class=\"dataframe\">\n",
       "  <thead>\n",
       "    <tr style=\"text-align: right;\">\n",
       "      <th></th>\n",
       "      <th>First_Names</th>\n",
       "      <th>Last_Names</th>\n",
       "      <th>Gender</th>\n",
       "      <th>Age</th>\n",
       "      <th>ACT</th>\n",
       "      <th>SAT</th>\n",
       "    </tr>\n",
       "  </thead>\n",
       "  <tbody>\n",
       "    <tr>\n",
       "      <th>0</th>\n",
       "      <td>Jason</td>\n",
       "      <td>Miller</td>\n",
       "      <td>M</td>\n",
       "      <td>18</td>\n",
       "      <td>29</td>\n",
       "      <td>1280</td>\n",
       "    </tr>\n",
       "    <tr>\n",
       "      <th>1</th>\n",
       "      <td>Molly</td>\n",
       "      <td>Jackson</td>\n",
       "      <td>F</td>\n",
       "      <td>20</td>\n",
       "      <td>32</td>\n",
       "      <td>1420</td>\n",
       "    </tr>\n",
       "    <tr>\n",
       "      <th>2</th>\n",
       "      <td>Tina</td>\n",
       "      <td>Fey</td>\n",
       "      <td>F</td>\n",
       "      <td>22</td>\n",
       "      <td>31</td>\n",
       "      <td>1360</td>\n",
       "    </tr>\n",
       "    <tr>\n",
       "      <th>3</th>\n",
       "      <td>Jake</td>\n",
       "      <td>Albert</td>\n",
       "      <td>M</td>\n",
       "      <td>19</td>\n",
       "      <td>35</td>\n",
       "      <td>1520</td>\n",
       "    </tr>\n",
       "    <tr>\n",
       "      <th>4</th>\n",
       "      <td>Amy</td>\n",
       "      <td>NULL</td>\n",
       "      <td>F</td>\n",
       "      <td>0</td>\n",
       "      <td>0</td>\n",
       "      <td>0</td>\n",
       "    </tr>\n",
       "  </tbody>\n",
       "</table>\n",
       "</div>"
      ],
      "text/plain": [
       "  First_Names Last_Names Gender  Age  ACT   SAT\n",
       "0       Jason     Miller      M   18   29  1280\n",
       "1       Molly    Jackson      F   20   32  1420\n",
       "2        Tina        Fey      F   22   31  1360\n",
       "3        Jake     Albert      M   19   35  1520\n",
       "4         Amy       NULL      F    0    0     0"
      ]
     },
     "execution_count": 85,
     "metadata": {},
     "output_type": "execute_result"
    }
   ],
   "source": [
    "print(\"Piyush Raisinghani, Laptop:{0}, Time:{1}\".format(socket.gethostname(), dt.datetime.now()))\n",
    "print(\"=========================================================================\")\n",
    "df = pd.DataFrame({\"First_Names\":[\"Jason\",\"Molly\",\"Tina\",\"Jake\",\"Amy\"], \"Last_Names\":[\"Miller\",\"Jackson\",\"Fey\",\"Albert\",\"NULL\"],\n",
    "                    \"Gender\":[\"M\",\"F\",\"F\",\"M\",\"F\"], \"Age\":[18,20,22,19,0], \"ACT\": [29,32,31,35,0], \"SAT\":[1280,1420,1360,1520,0]})\n",
    "df"
   ]
  },
  {
   "cell_type": "code",
   "execution_count": 94,
   "metadata": {},
   "outputs": [
    {
     "name": "stdout",
     "output_type": "stream",
     "text": [
      "Piyush Raisinghani, Laptop:Omen, Time:2022-06-18 17:51:48.813303\n",
      "=========================================================================\n"
     ]
    },
    {
     "data": {
      "image/png": "[encoded data removed]",
      "text/plain": [
       "<Figure size 432x288 with 1 Axes>"
      ]
     },
     "metadata": {
      "needs_background": "light"
     },
     "output_type": "display_data"
    }
   ],
   "source": [
    "print(\"Piyush Raisinghani, Laptop:{0}, Time:{1}\".format(socket.gethostname(), dt.datetime.now()))\n",
    "print(\"=========================================================================\")\n",
    "\n",
    "plt.scatter(df[\"ACT\"][:4], df[\"SAT\"][:4], s = df[\"Age\"][:4]**2, c = \"red\")\n",
    "plt.title(\"Piyush Raisinghani\")\n",
    "plt.xlabel(\"ACT\")\n",
    "plt.ylabel(\"SAT\")\n",
    "plt.show()"
   ]
  },
  {
   "cell_type": "code",
   "execution_count": 99,
   "metadata": {},
   "outputs": [
    {
     "name": "stdout",
     "output_type": "stream",
     "text": [
      "Piyush Raisinghani, Laptop:Omen, Time:2022-06-18 18:06:29.726969\n",
      "=========================================================================\n"
     ]
    },
    {
     "data": {
      "image/png": "[encoded data removed]",
      "text/plain": [
       "<Figure size 432x288 with 1 Axes>"
      ]
     },
     "metadata": {
      "needs_background": "light"
     },
     "output_type": "display_data"
    }
   ],
   "source": [
    "print(\"Piyush Raisinghani, Laptop:{0}, Time:{1}\".format(socket.gethostname(), dt.datetime.now()))\n",
    "print(\"=========================================================================\")\n",
    "plt.scatter(df[\"ACT\"]/36*100,df[\"SAT\"]/1600*100)\n",
    "plt.show()"
   ]
  },
  {
   "cell_type": "markdown",
   "metadata": {},
   "source": [
    "8. Numpy  arrays have the following numbers \n",
    "     2 0 3 1 2 4 6 8 7 2 0 7 4 5 6 8 5 5 6 \n",
    "Display following: \n",
    "•\tSize of the array\n",
    "•\tDimension of the array\n",
    "•\tnumberer of times each digit is repeated \n",
    "•\tTotal of all the numbers"
   ]
  },
  {
   "cell_type": "code",
   "execution_count": 115,
   "metadata": {},
   "outputs": [
    {
     "name": "stdout",
     "output_type": "stream",
     "text": [
      "Piyush Raisinghani, Laptop:Omen, Time:2022-06-18 18:26:08.507265\n",
      "=========================================================================\n",
      "Size of the array: 19\n",
      "Dimension of the array: 1\n",
      "Number of times each digit is repeated: (array([0, 1, 2, 3, 4, 5, 6, 7, 8]), array([2, 1, 3, 1, 2, 3, 3, 2, 2], dtype=int64))\n",
      "Total of all the numbers: 81\n"
     ]
    }
   ],
   "source": [
    "print(\"Piyush Raisinghani, Laptop:{0}, Time:{1}\".format(socket.gethostname(), dt.datetime.now()))\n",
    "print(\"=========================================================================\")\n",
    "\n",
    "a = np.array([2,0,3,1,2,4,6,8,7,2,0,7,4,5,6,8,5,5,6])\n",
    "print(\"Size of the array: {0}\".format(a.size))\n",
    "print(\"Dimension of the array: {0}\".format(a.ndim))\n",
    "print(\"Number of times each digit is repeated: {0}\".format(np.unique(a, return_counts= True)))\n",
    "print(\"Total of all the numbers: {0}\".format(a.sum()))"
   ]
  },
  {
   "cell_type": "markdown",
   "metadata": {},
   "source": [
    "Create a NumPy array with a size of 12 X 12 with random values \n",
    "Display the following from the array you created \n",
    "•\tMinimum\n",
    "•\tMaximum \n",
    "•\tSum\n",
    "•\tAverage"
   ]
  },
  {
   "cell_type": "code",
   "execution_count": 120,
   "metadata": {},
   "outputs": [
    {
     "name": "stdout",
     "output_type": "stream",
     "text": [
      "Piyush Raisinghani, Laptop:Omen, Time:2022-06-18 18:37:21.987663\n",
      "=========================================================================\n",
      "Minimum: 0.004642005574257757\n",
      "Minimum: 0.004642005574257757\n",
      "Sum: 72.8419450689049\n",
      "Average: 0.505846840756284\n"
     ]
    }
   ],
   "source": [
    "print(\"Piyush Raisinghani, Laptop:{0}, Time:{1}\".format(socket.gethostname(), dt.datetime.now()))\n",
    "print(\"=========================================================================\")\n",
    "a = np.random.rand(12,12)\n",
    "print(\"Minimum: {0}\".format(a.min()))\n",
    "print(\"Minimum: {0}\".format(a.min()))\n",
    "print(\"Sum: {0}\".format(a.sum()))\n",
    "print(\"Average: {0}\".format(a.mean()))"
   ]
  },
  {
   "cell_type": "markdown",
   "metadata": {},
   "source": [
    "10.\tCreate a random array of 4 rows and 4 columns. \n",
    "Display values by \n",
    "•\tSort by the first column\n",
    "•\tSort by the third column \n",
    "•\tApply a few mathematical functions ( minimum 3)"
   ]
  },
  {
   "cell_type": "code",
   "execution_count": 134,
   "metadata": {},
   "outputs": [
    {
     "name": "stdout",
     "output_type": "stream",
     "text": [
      "Piyush Raisinghani, Laptop:Omen, Time:2022-06-18 19:00:05.511446\n",
      "=========================================================================\n",
      "[[0.13816464 0.93925458 0.3329641  0.15001172]\n",
      " [0.90976488 0.42884142 0.97955549 0.71630928]\n",
      " [0.75149993 0.62005174 0.74170983 0.94397047]\n",
      " [0.68355101 0.52781003 0.12949634 0.85895985]]\n",
      "Sorted by the first column: [[0.13816464 0.93925458 0.3329641  0.15001172]\n",
      " [0.68355101 0.52781003 0.12949634 0.85895985]\n",
      " [0.75149993 0.62005174 0.74170983 0.94397047]\n",
      " [0.90976488 0.42884142 0.97955549 0.71630928]]\n",
      "Sorted by the third column: [[0.68355101 0.52781003 0.12949634 0.85895985]\n",
      " [0.13816464 0.93925458 0.3329641  0.15001172]\n",
      " [0.75149993 0.62005174 0.74170983 0.94397047]\n",
      " [0.90976488 0.42884142 0.97955549 0.71630928]]\n",
      "Some mathematical functions:\n",
      "Sum = 9.851915318938811\n",
      "Max = 0.9795554895610783\n",
      "Min = 0.12949634202482052\n",
      "Average = 0.6157447074336757\n"
     ]
    }
   ],
   "source": [
    "print(\"Piyush Raisinghani, Laptop:{0}, Time:{1}\".format(socket.gethostname(), dt.datetime.now()))\n",
    "print(\"=========================================================================\")\n",
    "a = np.random.rand(4,4)\n",
    "print(a)\n",
    "a = a[a[:,0].argsort()]\n",
    "print(\"Sorted by the first column: {0}\".format(a))\n",
    "a = a[a[:,2].argsort()]\n",
    "print(\"Sorted by the third column: {0}\".format(a))\n",
    "print(\"Some mathematical functions:\\nSum = {0}\\nMax = {1}\\nMin = {2}\\nAverage = {3}\".format(a.sum(), a.max(), a.min(), a.mean()))"
   ]
  },
  {
   "cell_type": "markdown",
   "metadata": {},
   "source": [
    "11. Load the data from each column to separate the numpy array\n",
    "Display each column with the title."
   ]
  },
  {
   "cell_type": "code",
   "execution_count": 169,
   "metadata": {},
   "outputs": [
    {
     "data": {
      "text/html": [
       "<div>\n",
       "<style scoped>\n",
       "    .dataframe tbody tr th:only-of-type {\n",
       "        vertical-align: middle;\n",
       "    }\n",
       "\n",
       "    .dataframe tbody tr th {\n",
       "        vertical-align: top;\n",
       "    }\n",
       "\n",
       "    .dataframe thead th {\n",
       "        text-align: right;\n",
       "    }\n",
       "</style>\n",
       "<table border=\"1\" class=\"dataframe\">\n",
       "  <thead>\n",
       "    <tr style=\"text-align: right;\">\n",
       "      <th></th>\n",
       "      <th>Gender</th>\n",
       "      <th>Age</th>\n",
       "      <th>Undergraduate</th>\n",
       "      <th>Master</th>\n",
       "      <th>PhD</th>\n",
       "    </tr>\n",
       "  </thead>\n",
       "  <tbody>\n",
       "    <tr>\n",
       "      <th>0</th>\n",
       "      <td>M</td>\n",
       "      <td>47</td>\n",
       "      <td>1</td>\n",
       "      <td>1</td>\n",
       "      <td>1</td>\n",
       "    </tr>\n",
       "    <tr>\n",
       "      <th>1</th>\n",
       "      <td>F</td>\n",
       "      <td>65</td>\n",
       "      <td>1</td>\n",
       "      <td>1</td>\n",
       "      <td>1</td>\n",
       "    </tr>\n",
       "    <tr>\n",
       "      <th>2</th>\n",
       "      <td>F</td>\n",
       "      <td>56</td>\n",
       "      <td>1</td>\n",
       "      <td>1</td>\n",
       "      <td>0</td>\n",
       "    </tr>\n",
       "    <tr>\n",
       "      <th>3</th>\n",
       "      <td>M</td>\n",
       "      <td>23</td>\n",
       "      <td>1</td>\n",
       "      <td>1</td>\n",
       "      <td>0</td>\n",
       "    </tr>\n",
       "    <tr>\n",
       "      <th>4</th>\n",
       "      <td>M</td>\n",
       "      <td>53</td>\n",
       "      <td>1</td>\n",
       "      <td>1</td>\n",
       "      <td>1</td>\n",
       "    </tr>\n",
       "    <tr>\n",
       "      <th>...</th>\n",
       "      <td>...</td>\n",
       "      <td>...</td>\n",
       "      <td>...</td>\n",
       "      <td>...</td>\n",
       "      <td>...</td>\n",
       "    </tr>\n",
       "    <tr>\n",
       "      <th>95</th>\n",
       "      <td>M</td>\n",
       "      <td>26</td>\n",
       "      <td>0</td>\n",
       "      <td>0</td>\n",
       "      <td>0</td>\n",
       "    </tr>\n",
       "    <tr>\n",
       "      <th>96</th>\n",
       "      <td>M</td>\n",
       "      <td>56</td>\n",
       "      <td>1</td>\n",
       "      <td>1</td>\n",
       "      <td>1</td>\n",
       "    </tr>\n",
       "    <tr>\n",
       "      <th>97</th>\n",
       "      <td>F</td>\n",
       "      <td>28</td>\n",
       "      <td>1</td>\n",
       "      <td>0</td>\n",
       "      <td>0</td>\n",
       "    </tr>\n",
       "    <tr>\n",
       "      <th>98</th>\n",
       "      <td>M</td>\n",
       "      <td>44</td>\n",
       "      <td>1</td>\n",
       "      <td>0</td>\n",
       "      <td>1</td>\n",
       "    </tr>\n",
       "    <tr>\n",
       "      <th>99</th>\n",
       "      <td>F</td>\n",
       "      <td>24</td>\n",
       "      <td>1</td>\n",
       "      <td>0</td>\n",
       "      <td>1</td>\n",
       "    </tr>\n",
       "  </tbody>\n",
       "</table>\n",
       "<p>100 rows × 5 columns</p>\n",
       "</div>"
      ],
      "text/plain": [
       "   Gender  Age  Undergraduate  Master  PhD\n",
       "0       M   47              1       1    1\n",
       "1       F   65              1       1    1\n",
       "2       F   56              1       1    0\n",
       "3       M   23              1       1    0\n",
       "4       M   53              1       1    1\n",
       "..    ...  ...            ...     ...  ...\n",
       "95      M   26              0       0    0\n",
       "96      M   56              1       1    1\n",
       "97      F   28              1       0    0\n",
       "98      M   44              1       0    1\n",
       "99      F   24              1       0    1\n",
       "\n",
       "[100 rows x 5 columns]"
      ]
     },
     "execution_count": 169,
     "metadata": {},
     "output_type": "execute_result"
    }
   ],
   "source": [
    "wed"
   ]
  },
  {
   "cell_type": "code",
   "execution_count": 182,
   "metadata": {},
   "outputs": [
    {
     "name": "stdout",
     "output_type": "stream",
     "text": [
      "Piyush Raisinghani, Laptop:Omen, Time:2022-06-20 18:33:18.445560\n",
      "=========================================================================\n",
      "Column Gender: ['M' 'F' 'F' 'M' 'M' 'M' 'F' 'F' 'M' 'M' 'M' 'M' 'M' 'M' 'M' 'F' 'F' 'F'\n",
      " 'F' 'M' 'M' 'M' 'M' 'M' 'M' 'M' 'M' 'M' 'M' 'F' 'F' 'F' 'F' 'F' 'M' 'F'\n",
      " 'M' 'F' 'F' 'M' 'M' 'M' 'M' 'F' 'F' 'F' 'M' 'M' 'M' 'M' 'M' 'F' 'F' 'F'\n",
      " 'F' 'F' 'M' 'M' 'M' 'M' 'M' 'M' 'F' 'F' 'F' 'F' 'F' 'F' 'M' 'F' 'F' 'M'\n",
      " 'F' 'M' 'M' 'M' 'M' 'M' 'M' 'M' 'M' 'F' 'F' 'F' 'F' 'F' 'F' 'M' 'M' 'M'\n",
      " 'M' 'M' 'F' 'M' 'F' 'M' 'M' 'F' 'M' 'F']\n",
      "Column Age: [47 65 56 23 53 27 53 30 44 63 22 59 60 28 65 25 65 47 66 45 46 24 60 63\n",
      " 27 66 36 30 51 65 45 52 54 30 52 26 49 22 34 60 28 58 77 67 27 48 45 49\n",
      " 36 65 32 49 67 22 49 43 61 43 52 51 66 29 62 56 61 56 41 24 60 43 57 23\n",
      " 53 71 20 27 69 58 37 32 33 32 60 71 30 62 54 42 62 51 71 29 55 54 55 26\n",
      " 56 28 44 24]\n",
      "Column Undergraduate: [1 1 1 1 1 1 1 1 1 1 1 1 1 1 1 1 1 1 1 1 1 1 1 1 1 1 1 0 1 1 1 1 1 1 1 1 1\n",
      " 1 1 0 0 1 1 0 1 1 0 1 0 1 1 1 1 1 1 0 1 1 0 0 1 0 0 1 1 1 1 1 1 1 1 1 1 1\n",
      " 0 0 1 1 0 1 1 1 0 0 0 0 0 1 0 1 1 0 1 0 1 0 1 1 1 1]\n",
      "Column Master: [1 1 1 1 1 1 1 1 1 1 1 1 1 0 0 0 0 1 1 1 0 1 1 0 0 1 1 0 1 1 1 1 1 1 1 1 1\n",
      " 1 1 0 0 1 1 0 1 1 0 1 0 1 1 1 0 0 1 0 1 1 0 0 1 0 0 1 1 1 1 1 0 0 0 0 0 1\n",
      " 0 0 1 1 0 1 1 1 0 0 0 0 0 1 0 1 1 0 1 0 1 0 1 0 0 0]\n",
      "Column PhD: [1 1 0 0 1 0 0 0 1 1 0 0 1 0 0 0 0 1 1 1 0 0 0 0 0 1 1 0 1 1 1 1 1 0 0 0 0\n",
      " 0 1 0 0 1 1 0 0 1 0 1 0 1 1 0 0 0 1 0 1 1 0 0 1 0 0 1 0 0 0 0 0 0 0 0 0 1\n",
      " 0 0 1 1 0 1 1 1 0 0 0 0 0 1 0 1 1 0 1 0 1 0 1 0 1 1]\n"
     ]
    }
   ],
   "source": [
    "print(\"Piyush Raisinghani, Laptop:{0}, Time:{1}\".format(socket.gethostname(), dt.datetime.now()))\n",
    "print(\"=========================================================================\")\n",
    "\n",
    "wed = pd.read_csv(\"worker_education_data.csv\")\n",
    "gender = np.array(wed[\"Gender\"])\n",
    "age = np.array(wed[\"Age\"])\n",
    "ug = np.array(wed[\"Undergraduate\"])\n",
    "ms = np.array(wed[\"Master\"])\n",
    "phd = np.array(wed[\"PhD\"])\n",
    "print(\"Column Gender: {0}\".format(gender))\n",
    "print(\"Column Age: {0}\".format(age))\n",
    "print(\"Column Undergraduate: {0}\".format(ug))\n",
    "print(\"Column Master: {0}\".format(ms))\n",
    "print(\"Column PhD: {0}\".format(phd))"
   ]
  },
  {
   "cell_type": "markdown",
   "metadata": {},
   "source": [
    "12.\tUsing the above NumPy arrays\n",
    "Display the following information from the arrays\n",
    "•\tTotal Undergraduates\n",
    "•\tTotal Graduates\n",
    "•\tTotal Ph.D. Holders \n",
    "•\tDevelop a graph with these numbers"
   ]
  },
  {
   "cell_type": "code",
   "execution_count": 183,
   "metadata": {},
   "outputs": [
    {
     "name": "stdout",
     "output_type": "stream",
     "text": [
      "Piyush Raisinghani, Laptop:Omen, Time:2022-06-20 18:33:21.466694\n",
      "=========================================================================\n",
      "Total Undergraduates: 77\n",
      "Total Graduates: 60\n",
      "Total PhD Holders: 42\n"
     ]
    },
    {
     "data": {
      "image/png": "[encoded data removed]",
      "text/plain": [
       "<Figure size 432x288 with 1 Axes>"
      ]
     },
     "metadata": {
      "needs_background": "light"
     },
     "output_type": "display_data"
    }
   ],
   "source": [
    "print(\"Piyush Raisinghani, Laptop:{0}, Time:{1}\".format(socket.gethostname(), dt.datetime.now()))\n",
    "print(\"=========================================================================\")\n",
    "\n",
    "print(\"Total Undergraduates: {0}\".format(ug.sum()))\n",
    "print(\"Total Graduates: {0}\".format(ms.sum()))\n",
    "print(\"Total PhD Holders: {0}\".format(phd.sum()))\n",
    "plt.hist([ug.sum(), ms.sum(), phd.sum()])\n",
    "plt.show()"
   ]
  },
  {
   "cell_type": "markdown",
   "metadata": {},
   "source": [
    "13.\tUsing the above NumPy arrays\n",
    "Display the following information from the arrays\n",
    "\n",
    "•\tOnly Male with no college degree \n",
    "•\tOnly females with Ph.D. holders \n",
    "•\tDevelop a graph with Age and Degree "
   ]
  },
  {
   "cell_type": "code",
   "execution_count": 188,
   "metadata": {},
   "outputs": [
    {
     "name": "stdout",
     "output_type": "stream",
     "text": [
      "Piyush Raisinghani, Laptop:Omen, Time:2022-06-20 18:35:51.249208\n",
      "=========================================================================\n",
      "Males with no degrees: \n",
      "[False False False False False False False False False False False False\n",
      " False False False False False False False False False False False False\n",
      " False False False  True False False False False False False False False\n",
      " False False False  True  True False False False False False  True False\n",
      "  True False False False False False False False False False  True  True\n",
      " False  True False False False False False False False False False False\n",
      " False False  True  True False False  True False False False False False\n",
      " False False False False  True False False  True False  True False  True\n",
      " False False False False]\n",
      "Females with PhD: \n",
      "[False  True False False False False False False False False False False\n",
      " False False False False False  True  True False False False False False\n",
      " False False False False False  True  True  True  True False False False\n",
      " False False  True False False False False False False  True False False\n",
      " False False False False False False  True False False False False False\n",
      " False False False  True False False False False False False False False\n",
      " False False False False False False False False False  True False False\n",
      " False False False False False False False False  True False  True False\n",
      " False False False  True]\n"
     ]
    }
   ],
   "source": [
    "print(\"Piyush Raisinghani, Laptop:{0}, Time:{1}\".format(socket.gethostname(), dt.datetime.now()))\n",
    "print(\"=========================================================================\")\n",
    "print(\"Males with no degrees: \\n{0}\".format(np.bitwise_and(ug == 0, gender == \"M\")))\n",
    "print(\"Females with PhD: \\n{0}\".format(np.bitwise_and(phd == 1, gender == \"F\")))"
   ]
  },
  {
   "cell_type": "code",
   "execution_count": 189,
   "metadata": {},
   "outputs": [
    {
     "name": "stdout",
     "output_type": "stream",
     "text": [
      "Piyush Raisinghani, Laptop:Omen, Time:2022-06-20 18:36:21.507689\n",
      "=========================================================================\n"
     ]
    },
    {
     "data": {
      "image/png": "[encoded data removed]",
      "text/plain": [
       "<Figure size 432x288 with 1 Axes>"
      ]
     },
     "metadata": {
      "needs_background": "light"
     },
     "output_type": "display_data"
    }
   ],
   "source": [
    "print(\"Piyush Raisinghani, Laptop:{0}, Time:{1}\".format(socket.gethostname(), dt.datetime.now()))\n",
    "print(\"=========================================================================\")\n",
    "\n",
    "plt.scatter(age, ug)\n",
    "plt.xlabel(\"Age\")\n",
    "plt.ylabel(\"Undergraduate Degree\")\n",
    "plt.yticks([0,1],[\"No Degree\",\"Degree\"])\n",
    "plt.title(\"Piyush Raisinghani\")\n",
    "plt.show()"
   ]
  },
  {
   "cell_type": "markdown",
   "metadata": {},
   "source": [
    "14. Create a random vector of size 20 and find the mean values"
   ]
  },
  {
   "cell_type": "code",
   "execution_count": 196,
   "metadata": {},
   "outputs": [
    {
     "name": "stdout",
     "output_type": "stream",
     "text": [
      "Piyush Raisinghani, Laptop:Omen, Time:2022-06-20 18:39:08.025446\n",
      "=========================================================================\n",
      "Vector of 20 random values: \n",
      "[0.71458786 0.40145404 0.7552399  0.59050668 0.84280807 0.66845907\n",
      " 0.66513139 0.7544044  0.29375672 0.86659644 0.10338685 0.6370172\n",
      " 0.33972286 0.01248242 0.48017696 0.11512487 0.99962995 0.64464587\n",
      " 0.28363217 0.09261346]\n",
      "Mean of the vector: 0.5130688587649759\n"
     ]
    }
   ],
   "source": [
    "print(\"Piyush Raisinghani, Laptop:{0}, Time:{1}\".format(socket.gethostname(), dt.datetime.now()))\n",
    "print(\"=========================================================================\")\n",
    "\n",
    "a = np.random.rand(20).reshape(20)\n",
    "print(\"Vector of 20 random values: \\n{0}\".format(a))\n",
    "print(\"Mean of the vector: {0}\".format(a.mean()))"
   ]
  },
  {
   "cell_type": "markdown",
   "metadata": {},
   "source": [
    "15.\tCreate a three-dimensional array and get the sum of the last two axes at once"
   ]
  },
  {
   "cell_type": "code",
   "execution_count": 210,
   "metadata": {},
   "outputs": [
    {
     "name": "stdout",
     "output_type": "stream",
     "text": [
      "Piyush Raisinghani, Laptop:Omen, Time:2022-06-21 00:27:25.929002\n",
      "=========================================================================\n"
     ]
    },
    {
     "data": {
      "text/plain": [
       "array([[[0.7705916 , 0.07130823],\n",
       "        [0.84265326, 0.25620943]],\n",
       "\n",
       "       [[0.1519072 , 0.70811793],\n",
       "        [0.94217892, 0.69357201]]])"
      ]
     },
     "execution_count": 210,
     "metadata": {},
     "output_type": "execute_result"
    }
   ],
   "source": [
    "print(\"Piyush Raisinghani, Laptop:{0}, Time:{1}\".format(socket.gethostname(), dt.datetime.now()))\n",
    "print(\"=========================================================================\")\n",
    "\n",
    "a = np.random.rand(8).reshape(2,2,2)\n",
    "a"
   ]
  },
  {
   "cell_type": "code",
   "execution_count": null,
   "metadata": {},
   "outputs": [],
   "source": []
  }
 ],
 "metadata": {
  "kernelspec": {
   "display_name": "Python 3.10.1 64-bit",
   "language": "python",
   "name": "python3"
  },
  "language_info": {
   "codemirror_mode": {
    "name": "ipython",
    "version": 3
   },
   "file_extension": ".py",
   "mimetype": "text/x-python",
   "name": "python",
   "nbconvert_exporter": "python",
   "pygments_lexer": "ipython3",
   "version": "3.10.1"
  },
  "orig_nbformat": 4,
  "vscode": {
   "interpreter": {
    "hash": "fa6fc890c19d0518efc3ca8fefe1ab7c2a921b84ac247755bf14d3f8c1bb1ece"
   }
  }
 },
 "nbformat": 4,
 "nbformat_minor": 2
}
