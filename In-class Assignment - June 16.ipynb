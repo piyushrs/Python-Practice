{
 "cells": [
  {
   "cell_type": "code",
   "execution_count": 1,
   "metadata": {},
   "outputs": [],
   "source": [
    "import socket\n",
    "import datetime as dt\n",
    "import pandas as pd\n",
    "import numpy as np\n",
    "import matplotlib.pyplot as plt\n",
    "import random"
   ]
  },
  {
   "cell_type": "code",
   "execution_count": 40,
   "metadata": {},
   "outputs": [
    {
     "name": "stdout",
     "output_type": "stream",
     "text": [
      "Piyush Raisinghani, Laptop:Omen, Time:2022-06-17 12:16:06.671347\n",
      "=========================================================================\n"
     ]
    },
    {
     "data": {
      "text/plain": [
       "array([[ 87,  96,  70],\n",
       "       [100,  87,  90],\n",
       "       [ 94,  77,  90],\n",
       "       [100,  81,  82]])"
      ]
     },
     "execution_count": 40,
     "metadata": {},
     "output_type": "execute_result"
    }
   ],
   "source": [
    "print(\"Piyush Raisinghani, Laptop:{0}, Time:{1}\".format(socket.gethostname(), dt.datetime.now()))\n",
    "print(\"=========================================================================\")\n",
    "grades = np.array([[87, 96, 70],[100, 87, 90],\n",
    "                [94, 77, 90], [100, 81, 82]])\n",
    "grades"
   ]
  },
  {
   "cell_type": "code",
   "execution_count": 13,
   "metadata": {},
   "outputs": [
    {
     "name": "stdout",
     "output_type": "stream",
     "text": [
      "Piyush Raisinghani, Laptop:Omen, Time:2022-06-17 11:33:45.046635\n",
      "=========================================================================\n",
      "Array: [[ 87  96  70]\n",
      " [100  87  90]\n",
      " [ 94  77  90]\n",
      " [100  81  82]]\n",
      "Array sum = 1054\n",
      "Array mean = 87.83333333333333\n",
      "Array max = 100\n",
      "Array min = 70\n",
      "Array standard deviation = 8.792357792739987\n",
      "Array variance = 77.30555555555556\n",
      "Mean of first row of array = 84.33333333333333\n",
      "Mean of first row of array = 87.66666666666667\n"
     ]
    }
   ],
   "source": [
    "print(\"Piyush Raisinghani, Laptop:{0}, Time:{1}\".format(socket.gethostname(), dt.datetime.now()))\n",
    "print(\"=========================================================================\")\n",
    "print(\"Array: {0}\".format(grades))\n",
    "print(\"Array sum = {0}\".format(grades.sum()))\n",
    "print(\"Array mean = {0}\".format(grades.mean()))\n",
    "print(\"Array max = {0}\".format(grades.max()))\n",
    "print(\"Array min = {0}\".format(grades.min()))\n",
    "print(\"Array standard deviation = {0}\".format(grades.std()))\n",
    "print(\"Array variance = {0}\".format(grades.var()))\n",
    "print(\"Mean of first row of array = {0}\".format(grades[0].mean()))\n",
    "print(\"Mean of first row of array = {0}\".format(grades[-1].mean()))"
   ]
  },
  {
   "cell_type": "code",
   "execution_count": 14,
   "metadata": {},
   "outputs": [
    {
     "name": "stdout",
     "output_type": "stream",
     "text": [
      "Piyush Raisinghani, Laptop:Omen, Time:2022-06-17 11:34:27.748829\n",
      "=========================================================================\n",
      "a: [[ 2  4  6]\n",
      " [ 8 10 12]\n",
      " [14 16 18]]\n",
      "b: [[9 8 7]\n",
      " [6 5 4]\n",
      " [3 2 1]]\n",
      "a x b = [[18 32 42]\n",
      " [48 50 48]\n",
      " [42 32 18]]\n"
     ]
    }
   ],
   "source": [
    "print(\"Piyush Raisinghani, Laptop:{0}, Time:{1}\".format(socket.gethostname(), dt.datetime.now()))\n",
    "print(\"=========================================================================\")\n",
    "a = np.arange(2,20,2).reshape(3,3)\n",
    "print(\"a: {0}\".format(a))\n",
    "b = np.arange(9, 0, -1).reshape(3,3)\n",
    "print(\"b: {0}\".format(b))\n",
    "print(\"a x b = {0}\".format(a*b))"
   ]
  },
  {
   "cell_type": "code",
   "execution_count": 2,
   "metadata": {},
   "outputs": [
    {
     "name": "stdout",
     "output_type": "stream",
     "text": [
      "Piyush Raisinghani, Laptop:Omen, Time:2022-06-22 17:56:21.221618\n",
      "=========================================================================\n",
      "Array: [[ 1  2  3  4  5]\n",
      " [ 6  7  8  9 10]\n",
      " [11 12 13 14 15]]\n",
      "Row 2 of the array: [ 6  7  8  9 10]\n",
      "Column 5 of the array: [ 4  9 14]\n",
      "Rows 0 and 1 of the array: [[1 2 3 4 5]]\n",
      "Columns 1-4 of the array: [[ 2  3  4]\n",
      " [ 7  8  9]\n",
      " [12 13 14]]\n",
      "Element that is in row 1 and column 4: 4\n",
      "All elements from rows 1 and 2 that are in columns 0,2 and 4: [[ 1  3  5]\n",
      " [ 6  8 10]]\n"
     ]
    }
   ],
   "source": [
    "print(\"Piyush Raisinghani, Laptop:{0}, Time:{1}\".format(socket.gethostname(), dt.datetime.now()))\n",
    "print(\"=========================================================================\")\n",
    "a = np.arange(1, 16).reshape(3,5);\n",
    "print(\"Array: {0}\".format(a))\n",
    "print(\"Row 2 of the array: {0}\".format(a[1]))\n",
    "print(\"Column 5 of the array: {0}\".format(a[:,3]))\n",
    "print(\"Rows 0 and 1 of the array: {0}\".format(a[0:1]))\n",
    "print(\"Columns 1-4 of the array: {0}\".format(a[:,1:4]))\n",
    "print(\"Element that is in row 1 and column 4: {0}\".format(a[0,3]))\n",
    "print(\"All elements from rows 1 and 2 that are in columns 0,2 and 4: {0}\".format(a[0:2, [0,2,4]]))"
   ]
  },
  {
   "cell_type": "code",
   "execution_count": 35,
   "metadata": {},
   "outputs": [
    {
     "name": "stdout",
     "output_type": "stream",
     "text": [
      "Piyush Raisinghani, Laptop:Omen, Time:2022-06-17 12:06:48.686824\n",
      "=========================================================================\n",
      "Array: [[1.1 2.2 3.3]\n",
      " [4.4 5.5 6.6]]\n",
      "Array converted to integers: [[1 2 3]\n",
      " [4 5 6]]\n"
     ]
    }
   ],
   "source": [
    "print(\"Piyush Raisinghani, Laptop:{0}, Time:{1}\".format(socket.gethostname(), dt.datetime.now()))\n",
    "print(\"=========================================================================\")\n",
    "a = np.linspace(1.1, 6.6, 6).reshape(2,3)\n",
    "print(\"Array: {0}\".format(a))\n",
    "print(\"Array converted to integers: {0}\".format(a.astype(int)))"
   ]
  },
  {
   "cell_type": "code",
   "execution_count": 39,
   "metadata": {},
   "outputs": [
    {
     "name": "stdout",
     "output_type": "stream",
     "text": [
      "Piyush Raisinghani, Laptop:Omen, Time:2022-06-17 12:15:50.325889\n",
      "=========================================================================\n",
      "Array: [[0 1]\n",
      " [2 3]]\n",
      "Cube for every element: [[ 0  1]\n",
      " [ 8 27]]\n",
      "Add 7 to every element: [[ 7  8]\n",
      " [ 9 10]]\n",
      "Multiply every element by 2: [[0 2]\n",
      " [4 6]]\n"
     ]
    }
   ],
   "source": [
    "print(\"Piyush Raisinghani, Laptop:{0}, Time:{1}\".format(socket.gethostname(), dt.datetime.now()))\n",
    "print(\"=========================================================================\")\n",
    "a = np.arange(0,4).reshape(2,2)\n",
    "print(\"Array: {0}\".format(a))\n",
    "print(\"Cube for every element: {0}\".format(a**3))\n",
    "print(\"Add 7 to every element: {0}\".format(a+7))\n",
    "print(\"Multiply every element by 2: {0}\".format(a*2))"
   ]
  },
  {
   "cell_type": "markdown",
   "metadata": {},
   "source": [
    "• Load the file called diamonds.csv from elearing\n",
    "• Verify the data and title of the data load\n",
    "• load this as excel sheet"
   ]
  },
  {
   "cell_type": "code",
   "execution_count": 4,
   "metadata": {},
   "outputs": [
    {
     "name": "stdout",
     "output_type": "stream",
     "text": [
      "Piyush Raisinghani, Laptop:Omen, Time:2022-06-22 17:58:24.390625\n",
      "=========================================================================\n"
     ]
    },
    {
     "data": {
      "text/html": [
       "<div>\n",
       "<style scoped>\n",
       "    .dataframe tbody tr th:only-of-type {\n",
       "        vertical-align: middle;\n",
       "    }\n",
       "\n",
       "    .dataframe tbody tr th {\n",
       "        vertical-align: top;\n",
       "    }\n",
       "\n",
       "    .dataframe thead th {\n",
       "        text-align: right;\n",
       "    }\n",
       "</style>\n",
       "<table border=\"1\" class=\"dataframe\">\n",
       "  <thead>\n",
       "    <tr style=\"text-align: right;\">\n",
       "      <th></th>\n",
       "      <th>carat</th>\n",
       "      <th>cut</th>\n",
       "      <th>color</th>\n",
       "      <th>clarity</th>\n",
       "      <th>depth</th>\n",
       "      <th>table</th>\n",
       "      <th>price</th>\n",
       "      <th>x</th>\n",
       "      <th>y</th>\n",
       "      <th>z</th>\n",
       "    </tr>\n",
       "    <tr>\n",
       "      <th>Unnamed: 0</th>\n",
       "      <th></th>\n",
       "      <th></th>\n",
       "      <th></th>\n",
       "      <th></th>\n",
       "      <th></th>\n",
       "      <th></th>\n",
       "      <th></th>\n",
       "      <th></th>\n",
       "      <th></th>\n",
       "      <th></th>\n",
       "    </tr>\n",
       "  </thead>\n",
       "  <tbody>\n",
       "    <tr>\n",
       "      <th>1</th>\n",
       "      <td>0.23</td>\n",
       "      <td>Ideal</td>\n",
       "      <td>E</td>\n",
       "      <td>SI2</td>\n",
       "      <td>61.5</td>\n",
       "      <td>55.0</td>\n",
       "      <td>326</td>\n",
       "      <td>3.95</td>\n",
       "      <td>3.98</td>\n",
       "      <td>2.43</td>\n",
       "    </tr>\n",
       "    <tr>\n",
       "      <th>2</th>\n",
       "      <td>0.21</td>\n",
       "      <td>Premium</td>\n",
       "      <td>E</td>\n",
       "      <td>SI1</td>\n",
       "      <td>59.8</td>\n",
       "      <td>61.0</td>\n",
       "      <td>326</td>\n",
       "      <td>3.89</td>\n",
       "      <td>3.84</td>\n",
       "      <td>2.31</td>\n",
       "    </tr>\n",
       "    <tr>\n",
       "      <th>3</th>\n",
       "      <td>0.23</td>\n",
       "      <td>Good</td>\n",
       "      <td>E</td>\n",
       "      <td>VS1</td>\n",
       "      <td>56.9</td>\n",
       "      <td>65.0</td>\n",
       "      <td>327</td>\n",
       "      <td>4.05</td>\n",
       "      <td>4.07</td>\n",
       "      <td>2.31</td>\n",
       "    </tr>\n",
       "    <tr>\n",
       "      <th>4</th>\n",
       "      <td>0.29</td>\n",
       "      <td>Premium</td>\n",
       "      <td>I</td>\n",
       "      <td>VS2</td>\n",
       "      <td>62.4</td>\n",
       "      <td>58.0</td>\n",
       "      <td>334</td>\n",
       "      <td>4.20</td>\n",
       "      <td>4.23</td>\n",
       "      <td>2.63</td>\n",
       "    </tr>\n",
       "    <tr>\n",
       "      <th>5</th>\n",
       "      <td>0.31</td>\n",
       "      <td>Good</td>\n",
       "      <td>J</td>\n",
       "      <td>SI2</td>\n",
       "      <td>63.3</td>\n",
       "      <td>58.0</td>\n",
       "      <td>335</td>\n",
       "      <td>4.34</td>\n",
       "      <td>4.35</td>\n",
       "      <td>2.75</td>\n",
       "    </tr>\n",
       "    <tr>\n",
       "      <th>...</th>\n",
       "      <td>...</td>\n",
       "      <td>...</td>\n",
       "      <td>...</td>\n",
       "      <td>...</td>\n",
       "      <td>...</td>\n",
       "      <td>...</td>\n",
       "      <td>...</td>\n",
       "      <td>...</td>\n",
       "      <td>...</td>\n",
       "      <td>...</td>\n",
       "    </tr>\n",
       "    <tr>\n",
       "      <th>53936</th>\n",
       "      <td>0.72</td>\n",
       "      <td>Ideal</td>\n",
       "      <td>D</td>\n",
       "      <td>SI1</td>\n",
       "      <td>60.8</td>\n",
       "      <td>57.0</td>\n",
       "      <td>2757</td>\n",
       "      <td>5.75</td>\n",
       "      <td>5.76</td>\n",
       "      <td>3.50</td>\n",
       "    </tr>\n",
       "    <tr>\n",
       "      <th>53937</th>\n",
       "      <td>0.72</td>\n",
       "      <td>Good</td>\n",
       "      <td>D</td>\n",
       "      <td>SI1</td>\n",
       "      <td>63.1</td>\n",
       "      <td>55.0</td>\n",
       "      <td>2757</td>\n",
       "      <td>5.69</td>\n",
       "      <td>5.75</td>\n",
       "      <td>3.61</td>\n",
       "    </tr>\n",
       "    <tr>\n",
       "      <th>53938</th>\n",
       "      <td>0.70</td>\n",
       "      <td>Very Good</td>\n",
       "      <td>D</td>\n",
       "      <td>SI1</td>\n",
       "      <td>62.8</td>\n",
       "      <td>60.0</td>\n",
       "      <td>2757</td>\n",
       "      <td>5.66</td>\n",
       "      <td>5.68</td>\n",
       "      <td>3.56</td>\n",
       "    </tr>\n",
       "    <tr>\n",
       "      <th>53939</th>\n",
       "      <td>0.86</td>\n",
       "      <td>Premium</td>\n",
       "      <td>H</td>\n",
       "      <td>SI2</td>\n",
       "      <td>61.0</td>\n",
       "      <td>58.0</td>\n",
       "      <td>2757</td>\n",
       "      <td>6.15</td>\n",
       "      <td>6.12</td>\n",
       "      <td>3.74</td>\n",
       "    </tr>\n",
       "    <tr>\n",
       "      <th>53940</th>\n",
       "      <td>0.75</td>\n",
       "      <td>Ideal</td>\n",
       "      <td>D</td>\n",
       "      <td>SI2</td>\n",
       "      <td>62.2</td>\n",
       "      <td>55.0</td>\n",
       "      <td>2757</td>\n",
       "      <td>5.83</td>\n",
       "      <td>5.87</td>\n",
       "      <td>3.64</td>\n",
       "    </tr>\n",
       "  </tbody>\n",
       "</table>\n",
       "<p>53940 rows × 10 columns</p>\n",
       "</div>"
      ],
      "text/plain": [
       "            carat        cut color clarity  depth  table  price     x     y  \\\n",
       "Unnamed: 0                                                                    \n",
       "1            0.23      Ideal     E     SI2   61.5   55.0    326  3.95  3.98   \n",
       "2            0.21    Premium     E     SI1   59.8   61.0    326  3.89  3.84   \n",
       "3            0.23       Good     E     VS1   56.9   65.0    327  4.05  4.07   \n",
       "4            0.29    Premium     I     VS2   62.4   58.0    334  4.20  4.23   \n",
       "5            0.31       Good     J     SI2   63.3   58.0    335  4.34  4.35   \n",
       "...           ...        ...   ...     ...    ...    ...    ...   ...   ...   \n",
       "53936        0.72      Ideal     D     SI1   60.8   57.0   2757  5.75  5.76   \n",
       "53937        0.72       Good     D     SI1   63.1   55.0   2757  5.69  5.75   \n",
       "53938        0.70  Very Good     D     SI1   62.8   60.0   2757  5.66  5.68   \n",
       "53939        0.86    Premium     H     SI2   61.0   58.0   2757  6.15  6.12   \n",
       "53940        0.75      Ideal     D     SI2   62.2   55.0   2757  5.83  5.87   \n",
       "\n",
       "               z  \n",
       "Unnamed: 0        \n",
       "1           2.43  \n",
       "2           2.31  \n",
       "3           2.31  \n",
       "4           2.63  \n",
       "5           2.75  \n",
       "...          ...  \n",
       "53936       3.50  \n",
       "53937       3.61  \n",
       "53938       3.56  \n",
       "53939       3.74  \n",
       "53940       3.64  \n",
       "\n",
       "[53940 rows x 10 columns]"
      ]
     },
     "execution_count": 4,
     "metadata": {},
     "output_type": "execute_result"
    }
   ],
   "source": [
    "print(\"Piyush Raisinghani, Laptop:{0}, Time:{1}\".format(socket.gethostname(), dt.datetime.now()))\n",
    "print(\"=========================================================================\")\n",
    "\n",
    "df = pd.read_csv(\"diamonds.csv\").set_index(\"Unnamed: 0\")\n",
    "df"
   ]
  },
  {
   "cell_type": "markdown",
   "metadata": {},
   "source": [
    "1. Describe each column\n",
    "2. Ouput should have following: Count, unique, frequency"
   ]
  },
  {
   "cell_type": "code",
   "execution_count": 7,
   "metadata": {},
   "outputs": [
    {
     "name": "stdout",
     "output_type": "stream",
     "text": [
      "Piyush Raisinghani, Laptop:Omen, Time:2022-06-22 17:58:58.216428\n",
      "=========================================================================\n",
      "              carat         depth         table         price             x  \\\n",
      "count  53940.000000  53940.000000  53940.000000  53940.000000  53940.000000   \n",
      "mean       0.797940     61.749405     57.457184   3932.799722      5.731157   \n",
      "std        0.474011      1.432621      2.234491   3989.439738      1.121761   \n",
      "min        0.200000     43.000000     43.000000    326.000000      0.000000   \n",
      "25%        0.400000     61.000000     56.000000    950.000000      4.710000   \n",
      "50%        0.700000     61.800000     57.000000   2401.000000      5.700000   \n",
      "75%        1.040000     62.500000     59.000000   5324.250000      6.540000   \n",
      "max        5.010000     79.000000     95.000000  18823.000000     10.740000   \n",
      "\n",
      "                  y             z  \n",
      "count  53940.000000  53940.000000  \n",
      "mean       5.734526      3.538734  \n",
      "std        1.142135      0.705699  \n",
      "min        0.000000      0.000000  \n",
      "25%        4.720000      2.910000  \n",
      "50%        5.710000      3.530000  \n",
      "75%        6.540000      4.040000  \n",
      "max       58.900000     31.800000  \n",
      "          cut  color clarity\n",
      "count   53940  53940   53940\n",
      "unique      5      7       8\n",
      "top     Ideal      G     SI1\n",
      "freq    21551  11292   13065\n"
     ]
    }
   ],
   "source": [
    "print(\"Piyush Raisinghani, Laptop:{0}, Time:{1}\".format(socket.gethostname(), dt.datetime.now()))\n",
    "print(\"=========================================================================\")\n",
    "print(df.describe())\n",
    "print(df[[\"cut\",\"color\", \"clarity\"]].describe())"
   ]
  },
  {
   "cell_type": "markdown",
   "metadata": {},
   "source": [
    "1. Display the sample of data\n",
    "2. Display the data type of each data"
   ]
  },
  {
   "cell_type": "code",
   "execution_count": 13,
   "metadata": {},
   "outputs": [
    {
     "name": "stdout",
     "output_type": "stream",
     "text": [
      "Piyush Raisinghani, Laptop:Omen, Time:2022-06-22 18:02:42.715937\n",
      "=========================================================================\n",
      "Sample of the data: \n",
      "            carat        cut color clarity  depth  table  price     x     y  \\\n",
      "Unnamed: 0                                                                    \n",
      "35559        0.35    Premium     G     VS1   61.7   61.0    906  4.52  4.49   \n",
      "29573        0.41       Good     F     SI1   63.5   56.0    705  4.70  4.75   \n",
      "3756         1.02    Premium     J     SI2   61.4   60.0   3455  6.50  6.44   \n",
      "40162        0.32      Ideal     H      IF   61.1   56.0   1116  4.46  4.45   \n",
      "44494        0.52      Ideal     H     VS1   62.0   56.0   1598  5.14  5.20   \n",
      "20           0.30  Very Good     J     SI1   62.7   59.0    351  4.21  4.27   \n",
      "32289        0.28      Ideal     F     SI1   62.3   54.0    453  4.21  4.23   \n",
      "27379        0.35    Premium     H     SI1   62.4   58.0    647  4.54  4.47   \n",
      "3602         0.91      Ideal     G     SI2   62.2   57.0   3425  6.18  6.24   \n",
      "20088        1.12  Very Good     G    VVS2   62.6   59.0   8564  6.58  6.61   \n",
      "\n",
      "               z  \n",
      "Unnamed: 0        \n",
      "35559       2.78  \n",
      "29573       3.00  \n",
      "3756        3.97  \n",
      "40162       2.72  \n",
      "44494       3.21  \n",
      "20          2.66  \n",
      "32289       2.63  \n",
      "27379       2.81  \n",
      "3602        3.86  \n",
      "20088       4.13  \n",
      "\n",
      "Data types of each column:\n",
      "carat      float64\n",
      "cut         object\n",
      "color       object\n",
      "clarity     object\n",
      "depth      float64\n",
      "table      float64\n",
      "price        int64\n",
      "x          float64\n",
      "y          float64\n",
      "z          float64\n",
      "dtype: object\n"
     ]
    }
   ],
   "source": [
    "print(\"Piyush Raisinghani, Laptop:{0}, Time:{1}\".format(socket.gethostname(), dt.datetime.now()))\n",
    "print(\"=========================================================================\")\n",
    "\n",
    "print(\"Sample of the data: \\n{0}\\n\".format(df.sample(10)))\n",
    "print(\"Data types of each column:\\n{0}\".format(df.dtypes))"
   ]
  },
  {
   "cell_type": "markdown",
   "metadata": {},
   "source": [
    "1. Display the first seven rows of the DataFrame\n",
    "2. Display the last seven rows of the DataFrame"
   ]
  },
  {
   "cell_type": "code",
   "execution_count": 14,
   "metadata": {},
   "outputs": [
    {
     "name": "stdout",
     "output_type": "stream",
     "text": [
      "Piyush Raisinghani, Laptop:Omen, Time:2022-06-22 18:04:54.783603\n",
      "=========================================================================\n",
      "Display the first seven rows of the DataFrame: \n",
      "            carat        cut color clarity  depth  table  price     x     y  \\\n",
      "Unnamed: 0                                                                    \n",
      "1            0.23      Ideal     E     SI2   61.5   55.0    326  3.95  3.98   \n",
      "2            0.21    Premium     E     SI1   59.8   61.0    326  3.89  3.84   \n",
      "3            0.23       Good     E     VS1   56.9   65.0    327  4.05  4.07   \n",
      "4            0.29    Premium     I     VS2   62.4   58.0    334  4.20  4.23   \n",
      "5            0.31       Good     J     SI2   63.3   58.0    335  4.34  4.35   \n",
      "6            0.24  Very Good     J    VVS2   62.8   57.0    336  3.94  3.96   \n",
      "7            0.24  Very Good     I    VVS1   62.3   57.0    336  3.95  3.98   \n",
      "\n",
      "               z  \n",
      "Unnamed: 0        \n",
      "1           2.43  \n",
      "2           2.31  \n",
      "3           2.31  \n",
      "4           2.63  \n",
      "5           2.75  \n",
      "6           2.48  \n",
      "7           2.47  \n",
      "Display the last seven rows of the DataFrame: \n",
      "            carat        cut color clarity  depth  table  price     x     y  \\\n",
      "Unnamed: 0                                                                    \n",
      "1            0.23      Ideal     E     SI2   61.5   55.0    326  3.95  3.98   \n",
      "2            0.21    Premium     E     SI1   59.8   61.0    326  3.89  3.84   \n",
      "3            0.23       Good     E     VS1   56.9   65.0    327  4.05  4.07   \n",
      "4            0.29    Premium     I     VS2   62.4   58.0    334  4.20  4.23   \n",
      "5            0.31       Good     J     SI2   63.3   58.0    335  4.34  4.35   \n",
      "6            0.24  Very Good     J    VVS2   62.8   57.0    336  3.94  3.96   \n",
      "7            0.24  Very Good     I    VVS1   62.3   57.0    336  3.95  3.98   \n",
      "\n",
      "               z  \n",
      "Unnamed: 0        \n",
      "1           2.43  \n",
      "2           2.31  \n",
      "3           2.31  \n",
      "4           2.63  \n",
      "5           2.75  \n",
      "6           2.48  \n",
      "7           2.47  \n"
     ]
    }
   ],
   "source": [
    "print(\"Piyush Raisinghani, Laptop:{0}, Time:{1}\".format(socket.gethostname(), dt.datetime.now()))\n",
    "print(\"=========================================================================\")\n",
    "\n",
    "print(\"Display the first seven rows of the DataFrame: \\n{0}\".format(df.head(7)))\n",
    "print(\"Display the last seven rows of the DataFrame: \\n{0}\".format(df.head(7)))"
   ]
  },
  {
   "cell_type": "markdown",
   "metadata": {},
   "source": [
    "Use the DataFrame method describe (which looks only at the numerical columns) to calculate the descriptive statistics for the numerical columns—carat, depth, table, price, x, y and z."
   ]
  },
  {
   "cell_type": "code",
   "execution_count": 15,
   "metadata": {},
   "outputs": [
    {
     "name": "stdout",
     "output_type": "stream",
     "text": [
      "Piyush Raisinghani, Laptop:Omen, Time:2022-06-22 18:06:48.370079\n",
      "=========================================================================\n",
      "DataFrame describe: \n",
      "              carat         depth         table         price             x  \\\n",
      "count  53940.000000  53940.000000  53940.000000  53940.000000  53940.000000   \n",
      "mean       0.797940     61.749405     57.457184   3932.799722      5.731157   \n",
      "std        0.474011      1.432621      2.234491   3989.439738      1.121761   \n",
      "min        0.200000     43.000000     43.000000    326.000000      0.000000   \n",
      "25%        0.400000     61.000000     56.000000    950.000000      4.710000   \n",
      "50%        0.700000     61.800000     57.000000   2401.000000      5.700000   \n",
      "75%        1.040000     62.500000     59.000000   5324.250000      6.540000   \n",
      "max        5.010000     79.000000     95.000000  18823.000000     10.740000   \n",
      "\n",
      "                  y             z  \n",
      "count  53940.000000  53940.000000  \n",
      "mean       5.734526      3.538734  \n",
      "std        1.142135      0.705699  \n",
      "min        0.000000      0.000000  \n",
      "25%        4.720000      2.910000  \n",
      "50%        5.710000      3.530000  \n",
      "75%        6.540000      4.040000  \n",
      "max       58.900000     31.800000  \n"
     ]
    }
   ],
   "source": [
    "print(\"Piyush Raisinghani, Laptop:{0}, Time:{1}\".format(socket.gethostname(), dt.datetime.now()))\n",
    "print(\"=========================================================================\")\n",
    "\n",
    "print(\"DataFrame describe: \\n{0}\".format(df.describe()))"
   ]
  },
  {
   "cell_type": "markdown",
   "metadata": {},
   "source": [
    "Use Series method describe to calculate the descriptive statistics for the categorical data (text) columns—cut, color and clarity."
   ]
  },
  {
   "cell_type": "code",
   "execution_count": 16,
   "metadata": {},
   "outputs": [
    {
     "name": "stdout",
     "output_type": "stream",
     "text": [
      "Piyush Raisinghani, Laptop:Omen, Time:2022-06-22 18:07:52.114456\n",
      "=========================================================================\n"
     ]
    },
    {
     "data": {
      "text/html": [
       "<div>\n",
       "<style scoped>\n",
       "    .dataframe tbody tr th:only-of-type {\n",
       "        vertical-align: middle;\n",
       "    }\n",
       "\n",
       "    .dataframe tbody tr th {\n",
       "        vertical-align: top;\n",
       "    }\n",
       "\n",
       "    .dataframe thead th {\n",
       "        text-align: right;\n",
       "    }\n",
       "</style>\n",
       "<table border=\"1\" class=\"dataframe\">\n",
       "  <thead>\n",
       "    <tr style=\"text-align: right;\">\n",
       "      <th></th>\n",
       "      <th>cut</th>\n",
       "      <th>color</th>\n",
       "      <th>clarity</th>\n",
       "    </tr>\n",
       "  </thead>\n",
       "  <tbody>\n",
       "    <tr>\n",
       "      <th>count</th>\n",
       "      <td>53940</td>\n",
       "      <td>53940</td>\n",
       "      <td>53940</td>\n",
       "    </tr>\n",
       "    <tr>\n",
       "      <th>unique</th>\n",
       "      <td>5</td>\n",
       "      <td>7</td>\n",
       "      <td>8</td>\n",
       "    </tr>\n",
       "    <tr>\n",
       "      <th>top</th>\n",
       "      <td>Ideal</td>\n",
       "      <td>G</td>\n",
       "      <td>SI1</td>\n",
       "    </tr>\n",
       "    <tr>\n",
       "      <th>freq</th>\n",
       "      <td>21551</td>\n",
       "      <td>11292</td>\n",
       "      <td>13065</td>\n",
       "    </tr>\n",
       "  </tbody>\n",
       "</table>\n",
       "</div>"
      ],
      "text/plain": [
       "          cut  color clarity\n",
       "count   53940  53940   53940\n",
       "unique      5      7       8\n",
       "top     Ideal      G     SI1\n",
       "freq    21551  11292   13065"
      ]
     },
     "execution_count": 16,
     "metadata": {},
     "output_type": "execute_result"
    }
   ],
   "source": [
    "print(\"Piyush Raisinghani, Laptop:{0}, Time:{1}\".format(socket.gethostname(), dt.datetime.now()))\n",
    "print(\"=========================================================================\")\n",
    "\n",
    "df[[\"cut\",\"color\", \"clarity\"]].describe()"
   ]
  },
  {
   "cell_type": "markdown",
   "metadata": {},
   "source": [
    "What are the unique category values (use the Series method unique)?"
   ]
  },
  {
   "cell_type": "code",
   "execution_count": 17,
   "metadata": {},
   "outputs": [
    {
     "name": "stdout",
     "output_type": "stream",
     "text": [
      "Piyush Raisinghani, Laptop:Omen, Time:2022-06-22 18:08:42.656871\n",
      "=========================================================================\n",
      "Unique Values: \n",
      "carat        273\n",
      "cut            5\n",
      "color          7\n",
      "clarity        8\n",
      "depth        184\n",
      "table        127\n",
      "price      11602\n",
      "x            554\n",
      "y            552\n",
      "z            375\n",
      "dtype: int64\n"
     ]
    }
   ],
   "source": [
    "print(\"Piyush Raisinghani, Laptop:{0}, Time:{1}\".format(socket.gethostname(), dt.datetime.now()))\n",
    "print(\"=========================================================================\")\n",
    "\n",
    "print(\"Unique Values: \\n{0}\".format(df.nunique()))"
   ]
  },
  {
   "cell_type": "markdown",
   "metadata": {},
   "source": [
    "Pandas has many built-in graphing capabilities. Execute the %matplotlib magic to enable Matplotlib support in IPython. Then, to view histograms of each numerical data column, call your DataFrame’s hist method. The following figure shows the results for the DataFrame’s seven numerical columns:"
   ]
  },
  {
   "cell_type": "code",
   "execution_count": 18,
   "metadata": {},
   "outputs": [
    {
     "name": "stdout",
     "output_type": "stream",
     "text": [
      "Piyush Raisinghani, Laptop:Omen, Time:2022-06-22 18:09:24.386509\n",
      "=========================================================================\n",
      "[[<AxesSubplot:title={'center':'carat'}>\n",
      "  <AxesSubplot:title={'center':'depth'}>\n",
      "  <AxesSubplot:title={'center':'table'}>]\n",
      " [<AxesSubplot:title={'center':'price'}>\n",
      "  <AxesSubplot:title={'center':'x'}> <AxesSubplot:title={'center':'y'}>]\n",
      " [<AxesSubplot:title={'center':'z'}> <AxesSubplot:> <AxesSubplot:>]]\n"
     ]
    },
    {
     "data": {
      "image/png": "[encoded data removed]",
      "text/plain": [
       "<Figure size 432x288 with 9 Axes>"
      ]
     },
     "metadata": {
      "needs_background": "light"
     },
     "output_type": "display_data"
    }
   ],
   "source": [
    "print(\"Piyush Raisinghani, Laptop:{0}, Time:{1}\".format(socket.gethostname(), dt.datetime.now()))\n",
    "print(\"=========================================================================\")\n",
    "print(df.hist())"
   ]
  }
 ],
 "metadata": {
  "kernelspec": {
   "display_name": "Python 3.10.1 64-bit",
   "language": "python",
   "name": "python3"
  },
  "language_info": {
   "codemirror_mode": {
    "name": "ipython",
    "version": 3
   },
   "file_extension": ".py",
   "mimetype": "text/x-python",
   "name": "python",
   "nbconvert_exporter": "python",
   "pygments_lexer": "ipython3",
   "version": "3.10.1"
  },
  "orig_nbformat": 4,
  "vscode": {
   "interpreter": {
    "hash": "fa6fc890c19d0518efc3ca8fefe1ab7c2a921b84ac247755bf14d3f8c1bb1ece"
   }
  }
 },
 "nbformat": 4,
 "nbformat_minor": 2
}
