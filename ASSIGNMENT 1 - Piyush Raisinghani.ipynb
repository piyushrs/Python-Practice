{
 "cells": [
  {
   "cell_type": "code",
   "execution_count": 15,
   "metadata": {},
   "outputs": [],
   "source": [
    "import socket\n",
    "import datetime as dt"
   ]
  },
  {
   "cell_type": "markdown",
   "metadata": {},
   "source": [
    "1. In this scenario, you and your friend went to a restaurant. After the eating bill comes in the amount of 78.88, you need to split the bill among both of you after adding a 20% tip.  Write a program that displays how much each one needs to pay. Use a variable to store the total amount and tip amount."
   ]
  },
  {
   "cell_type": "code",
   "execution_count": 21,
   "metadata": {},
   "outputs": [
    {
     "name": "stdout",
     "output_type": "stream",
     "text": [
      "Piyush Raisinghani, Laptop:Omen, Time:2022-05-27 20:12:36.455869\n",
      "=========================================================================\n",
      "47.327999999999996\n"
     ]
    }
   ],
   "source": [
    "print(\"Piyush Raisinghani, Laptop:{0}, Time:{1}\".format(socket.gethostname(), dt.datetime.now()))\n",
    "print(\"=========================================================================\")\n",
    "\n",
    "total = 78.88\n",
    "tip = 0.20\n",
    "total_after_tip = total + (total*tip)\n",
    "print(total_after_tip/2)"
   ]
  },
  {
   "cell_type": "markdown",
   "metadata": {},
   "source": [
    "2. Write a python program to create a multiplication table for the given number. \n",
    "\n",
    "Ask the user for the number to develop a multiplication table.  Based on the given number develop a table. \n",
    "\n",
    "1 X 2 = 2\n",
    "2 X 2 = 4\n",
    "… so on"
   ]
  },
  {
   "cell_type": "code",
   "execution_count": 22,
   "metadata": {},
   "outputs": [
    {
     "name": "stdout",
     "output_type": "stream",
     "text": [
      "Piyush Raisinghani, Laptop:Omen, Time:2022-05-27 20:12:53.776595\n",
      "=========================================================================\n",
      "4 X 1 = 4\n",
      "4 X 2 = 8\n",
      "4 X 3 = 12\n",
      "4 X 4 = 16\n",
      "4 X 5 = 20\n",
      "4 X 6 = 24\n",
      "4 X 7 = 28\n",
      "4 X 8 = 32\n",
      "4 X 9 = 36\n",
      "4 X 10 = 40\n"
     ]
    }
   ],
   "source": [
    "print(\"Piyush Raisinghani, Laptop:{0}, Time:{1}\".format(socket.gethostname(), dt.datetime.now()))\n",
    "print(\"=========================================================================\")\n",
    "\n",
    "number = int(input(\"Enter a number\"))\n",
    "for i in range(1,11):\n",
    "    print(\"{0} X {1} = {2}\".format(number, i, number*i))"
   ]
  },
  {
   "cell_type": "markdown",
   "metadata": {},
   "source": [
    "3. Accept two numbers from the user and display which one is smaller and which one is greater."
   ]
  },
  {
   "cell_type": "code",
   "execution_count": 23,
   "metadata": {},
   "outputs": [
    {
     "name": "stdout",
     "output_type": "stream",
     "text": [
      "Piyush Raisinghani, Laptop:Omen, Time:2022-05-27 20:13:07.125195\n",
      "=========================================================================\n",
      "40\n"
     ]
    }
   ],
   "source": [
    "print(\"Piyush Raisinghani, Laptop:{0}, Time:{1}\".format(socket.gethostname(), dt.datetime.now()))\n",
    "print(\"=========================================================================\")\n",
    "\n",
    "a = int(input(\"Enter first number:\"))\n",
    "b = int(input(\"Enter second number:\"))\n",
    "print(a if a>b else b)"
   ]
  },
  {
   "cell_type": "markdown",
   "metadata": {},
   "source": [
    "4. Write a python program that displays the grade for a given numeric score.  \n",
    "The program should accept the Name and Numerical grade value. \n",
    "Use our course grade scheme. \n",
    "For example, if the given number is > 93 then it should say\n",
    "Student  Name:  Name of the student, Numerical Grade: 95    Final Letter Grade:  A\n",
    "so on. \n"
   ]
  },
  {
   "cell_type": "code",
   "execution_count": 26,
   "metadata": {},
   "outputs": [
    {
     "name": "stdout",
     "output_type": "stream",
     "text": [
      "Piyush Raisinghani, Laptop:Omen, Time:2022-05-27 20:21:11.392760\n",
      "=========================================================================\n",
      "Student Name: Piyush Numerical Grade: 50 Final Letter Grade: F\n"
     ]
    }
   ],
   "source": [
    "print(\"Piyush Raisinghani, Laptop:{0}, Time:{1}\".format(socket.gethostname(), dt.datetime.now()))\n",
    "print(\"=========================================================================\")\n",
    "\n",
    "name = input(\"Enter student name:\")\n",
    "score = int(input(\"Enter student score:\"))\n",
    "\n",
    "if(score >= 93): print(\"Student Name: {0} Numerical Grade: {1} Final Letter Grade: A\".format(name, score))\n",
    "elif(score < 93 and score >= 90): print(\"Student Name: {0} Numerical Grade: {1} Final Letter Grade: A-\".format(name, score))\n",
    "elif(score < 90 and score >= 87): print(\"Student Name: {0} Numerical Grade: {1} Final Letter Grade: B+\".format(name, score))\n",
    "elif(score < 87 and score >= 83): print(\"Student Name: {0} Numerical Grade: {1} Final Letter Grade: B\".format(name, score))\n",
    "elif(score < 83 and score >= 80): print(\"Student Name: {0} Numerical Grade: {1} Final Letter Grade: B-\".format(name, score))\n",
    "elif(score < 80 and score >= 77): print(\"Student Name: {0} Numerical Grade: {1} Final Letter Grade: C+\".format(name, score))\n",
    "elif(score < 77 and score >= 73): print(\"Student Name: {0} Numerical Grade: {1} Final Letter Grade: C\".format(name, score))\n",
    "elif(score < 73 and score >= 70): print(\"Student Name: {0} Numerical Grade: {1} Final Letter Grade: C-\".format(name, score))\n",
    "else: print(\"Student Name: {0} Numerical Grade: {1} Final Letter Grade: F\".format(name, score))"
   ]
  },
  {
   "cell_type": "markdown",
   "metadata": {},
   "source": [
    "5. To travel from Dallas to Tulsa takes 258 Miles.  Write a python code to convert miles to kilometers and calculate the round trip in kilometers.   The program should display both conversion of miles value and round trip value in kilometers."
   ]
  },
  {
   "cell_type": "code",
   "execution_count": 28,
   "metadata": {},
   "outputs": [
    {
     "name": "stdout",
     "output_type": "stream",
     "text": [
      "Piyush Raisinghani, Laptop:Omen, Time:2022-05-27 20:23:43.969065\n",
      "=========================================================================\n",
      "Distance in KM: 415.210752, Round trip value in KM: 830.421504\n"
     ]
    }
   ],
   "source": [
    "print(\"Piyush Raisinghani, Laptop:{0}, Time:{1}\".format(socket.gethostname(), dt.datetime.now()))\n",
    "print(\"=========================================================================\")\n",
    "\n",
    "mile = 258\n",
    "km = mile * 1.609344\n",
    "print(\"Distance in KM: {0}, Round trip value in KM: {1}\".format(km, km*2))"
   ]
  },
  {
   "cell_type": "markdown",
   "metadata": {},
   "source": [
    "6. We have three string values. Write a python code to combine all three string values.\n",
    "For example,  Word1=’Texas’,  Word2 =’USA’,  Word3=’Zipcode – 77580’ \n",
    "Display should be \n",
    " “Texas, USA, Zipcode – 77580” .  Use any of the three words you can think of.\n"
   ]
  },
  {
   "cell_type": "code",
   "execution_count": 31,
   "metadata": {},
   "outputs": [
    {
     "name": "stdout",
     "output_type": "stream",
     "text": [
      "Piyush Raisinghani, Laptop:Omen, Time:2022-05-27 20:25:26.228145\n",
      "=========================================================================\n",
      "Any,Three,Words\n"
     ]
    }
   ],
   "source": [
    "print(\"Piyush Raisinghani, Laptop:{0}, Time:{1}\".format(socket.gethostname(), dt.datetime.now()))\n",
    "print(\"=========================================================================\")\n",
    "\n",
    "word1 = 'Any'\n",
    "word2 = 'Three'\n",
    "word3 = 'Words'\n",
    "print(word1, word2, word3, sep=',')"
   ]
  },
  {
   "cell_type": "code",
   "execution_count": 7,
   "metadata": {},
   "outputs": [
    {
     "name": "stdout",
     "output_type": "stream",
     "text": [
      "hi, bye, Jan\n"
     ]
    }
   ],
   "source": [
    "word1, word2, word3 = input(\"separated by commas\").strip().split(\",\")\n",
    "print(word1, word2, word3, sep = \",\")"
   ]
  },
  {
   "cell_type": "markdown",
   "metadata": {},
   "source": [
    "7. Write a program to find the factors of a given  number and check whether the factor is even or odd"
   ]
  },
  {
   "cell_type": "code",
   "execution_count": 13,
   "metadata": {},
   "outputs": [
    {
     "name": "stdout",
     "output_type": "stream",
     "text": [
      "1 5\n"
     ]
    }
   ],
   "source": [
    "num = int(input(\"Enter any number:\"))\n",
    "print(\" \".join([str(i) for i in range(1, num+1) if num%i == 0]))"
   ]
  },
  {
   "cell_type": "code",
   "execution_count": 36,
   "metadata": {},
   "outputs": [
    {
     "name": "stdout",
     "output_type": "stream",
     "text": [
      "Piyush Raisinghani, Laptop:Omen, Time:2022-05-27 20:30:38.944416\n",
      "=========================================================================\n",
      "1\n",
      "Factor is odd\n",
      "2\n",
      "Factor is even\n",
      "4\n",
      "Factor is even\n",
      "5\n",
      "Factor is odd\n",
      "10\n",
      "Factor is even\n",
      "20\n",
      "Factor is even\n"
     ]
    }
   ],
   "source": [
    "print(\"Piyush Raisinghani, Laptop:{0}, Time:{1}\".format(socket.gethostname(), dt.datetime.now()))\n",
    "print(\"=========================================================================\")\n",
    "\n",
    "num = int(input(\"Enter any number:\"))\n",
    "for i in range(1, num+1):\n",
    "    if(num % i == 0):\n",
    "        print(i)\n",
    "        print(\"Factor is even\" if i % 2 == 0 else \"Factor is odd\")"
   ]
  },
  {
   "cell_type": "markdown",
   "metadata": {},
   "source": [
    "8. Write a program that accepts a string and calculates the number of letters and digits\n",
    "For example for String BUAN6340. \n",
    "It should display\n",
    "Letter = 4\n",
    "Digits = 4 \n"
   ]
  },
  {
   "cell_type": "code",
   "execution_count": 46,
   "metadata": {},
   "outputs": [
    {
     "name": "stdout",
     "output_type": "stream",
     "text": [
      "Piyush Raisinghani, Laptop:Omen, Time:2022-05-27 20:38:30.239440\n",
      "=========================================================================\n",
      "Letter = 4\n",
      "Digits = 4\n"
     ]
    }
   ],
   "source": [
    "print(\"Piyush Raisinghani, Laptop:{0}, Time:{1}\".format(socket.gethostname(), dt.datetime.now()))\n",
    "print(\"=========================================================================\")\n",
    "\n",
    "s = input(\"Enter the string:\")\n",
    "i = 0\n",
    "j = 0\n",
    "for c in s:\n",
    "    if c.isnumeric(): i+=1\n",
    "    else: j+=1\n",
    "print(\"Letter = {0}\\nDigits = {1}\".format(j, i))"
   ]
  },
  {
   "cell_type": "markdown",
   "metadata": {},
   "source": [
    "9. Print all prime numbers within 1000. Use For or while loop"
   ]
  },
  {
   "cell_type": "code",
   "execution_count": 17,
   "metadata": {},
   "outputs": [
    {
     "name": "stdout",
     "output_type": "stream",
     "text": [
      "Piyush Raisinghani, Laptop:Omen, Time:2022-06-03 12:36:52.123114\n",
      "=========================================================================\n",
      "2 3 5 7 11 13 17 19 23 29 31 37 41 43 47 53 59 61 67 71 73 79 83 89 97 101 103 107 109 113 127 131 137 139 149 151 157 163 167 173 179 181 191 193 197 199 211 223 227 229 233 239 241 251 257 263 269 271 277 281 283 293 307 311 313 317 331 337 347 349 353 359 367 373 379 383 389 397 401 409 419 421 431 433 439 443 449 457 461 463 467 479 487 491 499 503 509 521 523 541 547 557 563 569 571 577 587 593 599 601 607 613 617 619 631 641 643 647 653 659 661 673 677 683 691 701 709 719 727 733 739 743 751 757 761 769 773 787 797 809 811 821 823 827 829 839 853 857 859 863 877 881 883 887 907 911 919 929 937 941 947 953 967 971 977 983 991 997 "
     ]
    }
   ],
   "source": [
    "print(\"Piyush Raisinghani, Laptop:{0}, Time:{1}\".format(socket.gethostname(), dt.datetime.now()))\n",
    "print(\"=========================================================================\")\n",
    "\n",
    "for num in range(2, 1001):\n",
    "    for i in range(2, num):\n",
    "        if(num%i == 0):\n",
    "            break\n",
    "    else:\n",
    "        print(num, end =  ' ')\n"
   ]
  },
  {
   "cell_type": "markdown",
   "metadata": {},
   "source": [
    "10. Write a code that accepts a sequence of words as input and prints the words in a sequence after sorting them alphabetically."
   ]
  },
  {
   "cell_type": "code",
   "execution_count": null,
   "metadata": {},
   "outputs": [],
   "source": []
  },
  {
   "cell_type": "code",
   "execution_count": 62,
   "metadata": {},
   "outputs": [
    {
     "name": "stdout",
     "output_type": "stream",
     "text": [
      "Piyush Raisinghani, Laptop:Omen, Time:2022-05-27 21:27:41.303021\n",
      "=========================================================================\n",
      "hello is python this world\n"
     ]
    }
   ],
   "source": [
    "print(\"Piyush Raisinghani, Laptop:{0}, Time:{1}\".format(socket.gethostname(), dt.datetime.now()))\n",
    "print(\"=========================================================================\")\n",
    "\n",
    "s = list(input(\"Enter a sentence\").split(\" \"))\n",
    "s.sort()\n",
    "print(\" \".join(s))"
   ]
  },
  {
   "cell_type": "markdown",
   "metadata": {},
   "source": [
    "11.\tWrite a python program to convert today’s Dallas Weather from Fahrenheit to Celsius\n",
    " \n",
    "Print Dallas weather in F as well as in Celsius \n"
   ]
  },
  {
   "cell_type": "code",
   "execution_count": 66,
   "metadata": {},
   "outputs": [
    {
     "name": "stdout",
     "output_type": "stream",
     "text": [
      "Piyush Raisinghani, Laptop:Omen, Time:2022-05-27 21:34:13.242832\n",
      "=========================================================================\n",
      "Dallas weather in F: 30\n",
      "Dallas weather in C: -1.1111111111111112\n"
     ]
    }
   ],
   "source": [
    "print(\"Piyush Raisinghani, Laptop:{0}, Time:{1}\".format(socket.gethostname(), dt.datetime.now()))\n",
    "print(\"=========================================================================\")\n",
    "\n",
    "temp = int(input(\"Enter temperature\"))\n",
    "print(\"Dallas weather in F: {0}\\nDallas weather in C: {1}\".format(temp, (temp-32)*5/9))"
   ]
  },
  {
   "cell_type": "markdown",
   "metadata": {},
   "source": [
    "12.\tWrite a python code to sum all the numbers starting from 1 to 10\n",
    " Give the running total for whenever you are adding numbers. \n",
    "For example\n",
    "Running Sum : 1 +2 = 3\n",
    "Running Sum : 1 + 2+ 3 = 5 \n",
    "So on…, until adding all 10 numbers \n"
   ]
  },
  {
   "cell_type": "code",
   "execution_count": 6,
   "metadata": {},
   "outputs": [
    {
     "name": "stdout",
     "output_type": "stream",
     "text": [
      "Piyush Raisinghani, Laptop:Omen, Time:2022-05-28 22:35:32.698543\n",
      "=========================================================================\n",
      "Running Sum: 1+2 = 3\n",
      "Running Sum: 1+2+3 = 6\n",
      "Running Sum: 1+2+3+4 = 10\n",
      "Running Sum: 1+2+3+4+5 = 15\n",
      "Running Sum: 1+2+3+4+5+6 = 21\n",
      "Running Sum: 1+2+3+4+5+6+7 = 28\n",
      "Running Sum: 1+2+3+4+5+6+7+8 = 36\n",
      "Running Sum: 1+2+3+4+5+6+7+8+9 = 45\n",
      "Running Sum: 1+2+3+4+5+6+7+8+9+10 = 55\n"
     ]
    }
   ],
   "source": [
    "print(\"Piyush Raisinghani, Laptop:{0}, Time:{1}\".format(socket.gethostname(), dt.datetime.now()))\n",
    "print(\"=========================================================================\")\n",
    "\n",
    "i = 1\n",
    "s = str(i)\n",
    "for j in range(2, 11):\n",
    "    s += \"+\" + str(j)\n",
    "    print(\"Running Sum: {0} = {1}\".format(s, i+j))\n",
    "    i += j"
   ]
  },
  {
   "cell_type": "markdown",
   "metadata": {},
   "source": [
    "13.\tWrite a  python code to display the cube of the number up to 10. \n",
    " For example: \n",
    " 1 power 3 = 1\n",
    " 2 power 3 = 8\n",
    " 3 power 3 = 27"
   ]
  },
  {
   "cell_type": "code",
   "execution_count": 7,
   "metadata": {},
   "outputs": [
    {
     "name": "stdout",
     "output_type": "stream",
     "text": [
      "Piyush Raisinghani, Laptop:Omen, Time:2022-05-28 22:37:35.509088\n",
      "=========================================================================\n",
      "1 power 3 = 1\n",
      "2 power 3 = 8\n",
      "3 power 3 = 27\n",
      "4 power 3 = 64\n",
      "5 power 3 = 125\n",
      "6 power 3 = 216\n",
      "7 power 3 = 343\n",
      "8 power 3 = 512\n",
      "9 power 3 = 729\n",
      "10 power 3 = 1000\n"
     ]
    }
   ],
   "source": [
    "print(\"Piyush Raisinghani, Laptop:{0}, Time:{1}\".format(socket.gethostname(), dt.datetime.now()))\n",
    "print(\"=========================================================================\")\n",
    "\n",
    "for i in range(1,11):\n",
    "    print(\"{0} power 3 = {1}\".format(i, i**3))"
   ]
  },
  {
   "cell_type": "markdown",
   "metadata": {},
   "source": [
    "14. Write a python code to separate each character from the given string. \n",
    "For example: if the string is given BUAN 6340\n",
    "Then it should display as \n",
    "B  U  A N 6 3 4 0"
   ]
  },
  {
   "cell_type": "code",
   "execution_count": 17,
   "metadata": {},
   "outputs": [
    {
     "name": "stdout",
     "output_type": "stream",
     "text": [
      "Piyush Raisinghani, Laptop:Omen, Time:2022-05-28 22:47:35.925408\n",
      "=========================================================================\n",
      "b u a n 1 9 2 8 3 7\n"
     ]
    }
   ],
   "source": [
    "print(\"Piyush Raisinghani, Laptop:{0}, Time:{1}\".format(socket.gethostname(), dt.datetime.now()))\n",
    "print(\"=========================================================================\")\n",
    "\n",
    "s = list(map(str, input(\"Enter a string\").split()))\n",
    "print(\" \".join([j for i in s for j in i]))\n",
    "# l = []\n",
    "# for i in s:\n",
    "#     if not i.isspace():\n",
    "#         l.append(i)\n",
    "# print(\" \".join(l))"
   ]
  },
  {
   "cell_type": "code",
   "execution_count": 26,
   "metadata": {},
   "outputs": [
    {
     "name": "stdout",
     "output_type": "stream",
     "text": [
      "h e l l o w o r l d "
     ]
    }
   ],
   "source": [
    "s = input(\"Enter a string\").split()\n",
    "for i in s:\n",
    "    for j in i:\n",
    "        print(j, end = \" \")"
   ]
  },
  {
   "cell_type": "markdown",
   "metadata": {},
   "source": [
    "15.\tFind a string with maximum length from given two string inputs.\n",
    "For example UT-DALLAS, UT-SAN-ANTONIA \n",
    "Then it should display as \n",
    "UT-SAN-ANTONIA\n"
   ]
  },
  {
   "cell_type": "code",
   "execution_count": 30,
   "metadata": {},
   "outputs": [
    {
     "name": "stdout",
     "output_type": "stream",
     "text": [
      "Piyush Raisinghani, Laptop:Omen, Time:2022-05-28 22:54:45.992106\n",
      "=========================================================================\n",
      "UT-SAN-ANTONIA\n"
     ]
    }
   ],
   "source": [
    "print(\"Piyush Raisinghani, Laptop:{0}, Time:{1}\".format(socket.gethostname(), dt.datetime.now()))\n",
    "print(\"=========================================================================\")\n",
    "\n",
    "c1 = input(\"Enter 1st string\")\n",
    "c2 = input(\"Enter 2nd string\")\n",
    "print(c1 if len(c1)>len(c2) else c2)"
   ]
  }
 ],
 "metadata": {
  "interpreter": {
   "hash": "fa6fc890c19d0518efc3ca8fefe1ab7c2a921b84ac247755bf14d3f8c1bb1ece"
  },
  "kernelspec": {
   "display_name": "Python 3 (ipykernel)",
   "language": "python",
   "name": "python3"
  },
  "language_info": {
   "codemirror_mode": {
    "name": "ipython",
    "version": 3
   },
   "file_extension": ".py",
   "mimetype": "text/x-python",
   "name": "python",
   "nbconvert_exporter": "python",
   "pygments_lexer": "ipython3",
   "version": "3.10.1"
  }
 },
 "nbformat": 4,
 "nbformat_minor": 2
}
