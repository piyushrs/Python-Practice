{
 "cells": [
  {
   "cell_type": "code",
   "execution_count": 2,
   "metadata": {},
   "outputs": [],
   "source": [
    "import socket\n",
    "import datetime as dt"
   ]
  },
  {
   "cell_type": "markdown",
   "metadata": {},
   "source": [
    "Exercise 1A: Create a string made of the first, middle and last character"
   ]
  },
  {
   "cell_type": "code",
   "execution_count": 3,
   "metadata": {},
   "outputs": [
    {
     "name": "stdout",
     "output_type": "stream",
     "text": [
      "Piyush Raisinghani, Laptop:Omen, Time:2022-05-28 23:10:57.001989\n",
      "=========================================================================\n",
      "hlo\n"
     ]
    }
   ],
   "source": [
    "print(\"Piyush Raisinghani, Laptop:{0}, Time:{1}\".format(socket.gethostname(), dt.datetime.now()))\n",
    "print(\"=========================================================================\")\n",
    "\n",
    "s = input(\"Input a string\")\n",
    "print(s[0],s[len(s)//2],s[-1], sep=\"\")"
   ]
  },
  {
   "cell_type": "markdown",
   "metadata": {},
   "source": [
    "Exercise 1B: Create a string made of the middle three characters"
   ]
  },
  {
   "cell_type": "code",
   "execution_count": 6,
   "metadata": {},
   "outputs": [
    {
     "name": "stdout",
     "output_type": "stream",
     "text": [
      "Piyush Raisinghani, Laptop:Omen, Time:2022-05-28 23:13:19.550022\n",
      "=========================================================================\n",
      "o w\n"
     ]
    }
   ],
   "source": [
    "print(\"Piyush Raisinghani, Laptop:{0}, Time:{1}\".format(socket.gethostname(), dt.datetime.now()))\n",
    "print(\"=========================================================================\")\n",
    "\n",
    "s = input(\"Enter a string\")\n",
    "print(s[len(s)//2-1], s[len(s)//2], s[len(s)//2+1], sep=\"\")"
   ]
  },
  {
   "cell_type": "markdown",
   "metadata": {},
   "source": [
    "Exercise 2: Append new string in the middle of a given string"
   ]
  },
  {
   "cell_type": "code",
   "execution_count": 16,
   "metadata": {},
   "outputs": [
    {
     "name": "stdout",
     "output_type": "stream",
     "text": [
      "Piyush Raisinghani, Laptop:Omen, Time:2022-05-29 00:14:25.912705\n",
      "=========================================================================\n",
      "AuKellylt\n"
     ]
    }
   ],
   "source": [
    "print(\"Piyush Raisinghani, Laptop:{0}, Time:{1}\".format(socket.gethostname(), dt.datetime.now()))\n",
    "print(\"=========================================================================\")\n",
    "\n",
    "s1 = \"Ault\"\n",
    "s2 = \"Kelly\"\n",
    "print(s1[:len(s1)//2], s2, s1[len(s1)//2:], sep=\"\")"
   ]
  },
  {
   "cell_type": "markdown",
   "metadata": {},
   "source": [
    "Exercise 3: Create a new string made of the first, middle, and last characters of each input string"
   ]
  },
  {
   "cell_type": "code",
   "execution_count": 19,
   "metadata": {},
   "outputs": [
    {
     "name": "stdout",
     "output_type": "stream",
     "text": [
      "Piyush Raisinghani, Laptop:Omen, Time:2022-05-29 00:16:15.298651\n",
      "=========================================================================\n",
      "AJrpan\n"
     ]
    }
   ],
   "source": [
    "print(\"Piyush Raisinghani, Laptop:{0}, Time:{1}\".format(socket.gethostname(), dt.datetime.now()))\n",
    "print(\"=========================================================================\")\n",
    "\n",
    "s1 = \"America\"\n",
    "s2 = \"Japan\"\n",
    "print(s1[0],s2[0],s1[len(s1)//2],s2[len(s2)//2],s1[-1],s2[-1], sep=\"\")"
   ]
  },
  {
   "cell_type": "markdown",
   "metadata": {},
   "source": [
    "Exercise 4: Arrange string characters such that lowercase letters should come first"
   ]
  },
  {
   "cell_type": "code",
   "execution_count": 20,
   "metadata": {},
   "outputs": [
    {
     "name": "stdout",
     "output_type": "stream",
     "text": [
      "Piyush Raisinghani, Laptop:Omen, Time:2022-05-29 00:18:01.090787\n",
      "=========================================================================\n",
      "yaivePNT\n"
     ]
    }
   ],
   "source": [
    "print(\"Piyush Raisinghani, Laptop:{0}, Time:{1}\".format(socket.gethostname(), dt.datetime.now()))\n",
    "print(\"=========================================================================\")\n",
    "\n",
    "s1 = \"PyNaTive\"\n",
    "s2 = \"\"\n",
    "s3 = \"\"\n",
    "for i in s1:\n",
    "    if i.islower(): s2 += i\n",
    "    else: s3 += i\n",
    "print(s2+s3)"
   ]
  },
  {
   "cell_type": "markdown",
   "metadata": {},
   "source": [
    "Exercise 5: Count all letters, digits, and special symbols from a given string"
   ]
  },
  {
   "cell_type": "code",
   "execution_count": 21,
   "metadata": {},
   "outputs": [
    {
     "name": "stdout",
     "output_type": "stream",
     "text": [
      "Piyush Raisinghani, Laptop:Omen, Time:2022-05-29 00:21:15.576686\n",
      "=========================================================================\n",
      "Total counts of chars, digits, and symbols\n",
      "Chars = 8\n",
      "Digits = 3\n",
      "Symbol = 4\n"
     ]
    }
   ],
   "source": [
    "print(\"Piyush Raisinghani, Laptop:{0}, Time:{1}\".format(socket.gethostname(), dt.datetime.now()))\n",
    "print(\"=========================================================================\")\n",
    "\n",
    "str1 = \"P@#yn26at^&i5ve\"\n",
    "chars = 0; digits = 0; symbol = 0\n",
    "for i in str1:\n",
    "    if i.isalpha(): chars += 1\n",
    "    elif i.isnumeric(): digits += 1\n",
    "    else: symbol += 1\n",
    "print(\"Total counts of chars, digits, and symbols\\nChars = {0}\\nDigits = {1}\\nSymbol = {2}\".format(chars, digits, symbol))"
   ]
  },
  {
   "cell_type": "markdown",
   "metadata": {},
   "source": [
    "Exercise 6: Create a mixed String using the following rules"
   ]
  },
  {
   "cell_type": "code",
   "execution_count": 23,
   "metadata": {},
   "outputs": [
    {
     "name": "stdout",
     "output_type": "stream",
     "text": [
      "Piyush Raisinghani, Laptop:Omen, Time:2022-05-29 00:26:57.136971\n",
      "=========================================================================\n",
      "AzbycX\n"
     ]
    }
   ],
   "source": [
    "print(\"Piyush Raisinghani, Laptop:{0}, Time:{1}\".format(socket.gethostname(), dt.datetime.now()))\n",
    "print(\"=========================================================================\")\n",
    "\n",
    "s1 = \"Abc\"\n",
    "s2 = \"Xyz\"\n",
    "s2 = s2[::-1]\n",
    "s3 = \"\"\n",
    "l = len(s1) if len(s1)>len(s2) else len(s2)\n",
    "for i in range(0, l):\n",
    "    s3 += s1[i] + s2[i]\n",
    "print(s3)\n"
   ]
  },
  {
   "cell_type": "markdown",
   "metadata": {},
   "source": [
    "Exercise 7: String characters balance Test"
   ]
  },
  {
   "cell_type": "code",
   "execution_count": 25,
   "metadata": {},
   "outputs": [
    {
     "name": "stdout",
     "output_type": "stream",
     "text": [
      "Piyush Raisinghani, Laptop:Omen, Time:2022-05-29 00:31:05.830226\n",
      "=========================================================================\n",
      "False\n"
     ]
    }
   ],
   "source": [
    "print(\"Piyush Raisinghani, Laptop:{0}, Time:{1}\".format(socket.gethostname(), dt.datetime.now()))\n",
    "print(\"=========================================================================\")\n",
    "\n",
    "s1 = \"Ynf\"\n",
    "s2 = \"PYnative\"\n",
    "\n",
    "print(\"True\" if s1 in s2 else \"False\")"
   ]
  },
  {
   "cell_type": "markdown",
   "metadata": {},
   "source": [
    "Exercise 8: Find all occurrences of a substring in a given string by ignoring the case"
   ]
  },
  {
   "cell_type": "code",
   "execution_count": 34,
   "metadata": {},
   "outputs": [
    {
     "name": "stdout",
     "output_type": "stream",
     "text": [
      "Piyush Raisinghani, Laptop:Omen, Time:2022-05-29 00:39:10.644903\n",
      "=========================================================================\n",
      "The USA count is: 2\n"
     ]
    }
   ],
   "source": [
    "print(\"Piyush Raisinghani, Laptop:{0}, Time:{1}\".format(socket.gethostname(), dt.datetime.now()))\n",
    "print(\"=========================================================================\")\n",
    "\n",
    "str1 = \"Welcome to USA. usa awesome, isn't it?\"\n",
    "str1 = str1.lower()\n",
    "print(\"The USA count is: {0}\".format(str1.count('usa')))"
   ]
  },
  {
   "cell_type": "markdown",
   "metadata": {},
   "source": [
    "Exercise 9: Calculate the sum and average of the digits present in a string"
   ]
  },
  {
   "cell_type": "code",
   "execution_count": 41,
   "metadata": {},
   "outputs": [
    {
     "name": "stdout",
     "output_type": "stream",
     "text": [
      "Piyush Raisinghani, Laptop:Omen, Time:2022-05-29 00:45:58.421350\n",
      "=========================================================================\n",
      "Sum is: 38 Average is: 6.333333333333333\n"
     ]
    }
   ],
   "source": [
    "print(\"Piyush Raisinghani, Laptop:{0}, Time:{1}\".format(socket.gethostname(), dt.datetime.now()))\n",
    "print(\"=========================================================================\")\n",
    "\n",
    "import math\n",
    "str1 = \"PYnative29@#8496\"\n",
    "l = []\n",
    "for i in str1:\n",
    "    if i.isnumeric():\n",
    "        l.append(int(i))\n",
    "print(\"Sum is: {0} Average is: {1}\".format(sum(l), sum(l)/len(l)))"
   ]
  },
  {
   "cell_type": "markdown",
   "metadata": {},
   "source": [
    "Exercise 10: Write a program to count occurrences of all characters within a string"
   ]
  },
  {
   "cell_type": "code",
   "execution_count": 43,
   "metadata": {},
   "outputs": [
    {
     "name": "stdout",
     "output_type": "stream",
     "text": [
      "Piyush Raisinghani, Laptop:Omen, Time:2022-05-29 00:49:39.784130\n",
      "=========================================================================\n",
      "{'A': 1, 'p': 2, 'l': 1, 'e': 1}\n"
     ]
    }
   ],
   "source": [
    "print(\"Piyush Raisinghani, Laptop:{0}, Time:{1}\".format(socket.gethostname(), dt.datetime.now()))\n",
    "print(\"=========================================================================\")\n",
    "\n",
    "str1 = \"Apple\"\n",
    "d = dict()\n",
    "for i in list(str1):\n",
    "    d[i] = str1.count(i)\n",
    "print(d)"
   ]
  },
  {
   "cell_type": "markdown",
   "metadata": {},
   "source": [
    "Exercise 11: Reverse a given string"
   ]
  },
  {
   "cell_type": "code",
   "execution_count": 44,
   "metadata": {},
   "outputs": [
    {
     "name": "stdout",
     "output_type": "stream",
     "text": [
      "Piyush Raisinghani, Laptop:Omen, Time:2022-05-29 00:50:16.181945\n",
      "=========================================================================\n",
      "evitanYP\n"
     ]
    }
   ],
   "source": [
    "print(\"Piyush Raisinghani, Laptop:{0}, Time:{1}\".format(socket.gethostname(), dt.datetime.now()))\n",
    "print(\"=========================================================================\")\n",
    "\n",
    "str1 = \"PYnative\"\n",
    "print(str1[::-1])"
   ]
  },
  {
   "cell_type": "markdown",
   "metadata": {},
   "source": [
    "Exercise 12: Find the last position of a given substring"
   ]
  },
  {
   "cell_type": "code",
   "execution_count": 45,
   "metadata": {},
   "outputs": [
    {
     "name": "stdout",
     "output_type": "stream",
     "text": [
      "Piyush Raisinghani, Laptop:Omen, Time:2022-05-29 00:51:23.095199\n",
      "=========================================================================\n",
      "Last occurrence of Emma starts at index 43\n"
     ]
    }
   ],
   "source": [
    "print(\"Piyush Raisinghani, Laptop:{0}, Time:{1}\".format(socket.gethostname(), dt.datetime.now()))\n",
    "print(\"=========================================================================\")\n",
    "\n",
    "str1 = \"Emma is a data scientist who knows Python. Emma works at google.\"\n",
    "print(\"Last occurrence of Emma starts at index {0}\".format(str1.rindex(\"Emma\")))"
   ]
  },
  {
   "cell_type": "markdown",
   "metadata": {},
   "source": [
    "Exercise 13: Split a string on hyphens"
   ]
  },
  {
   "cell_type": "code",
   "execution_count": 55,
   "metadata": {},
   "outputs": [
    {
     "name": "stdout",
     "output_type": "stream",
     "text": [
      "Piyush Raisinghani, Laptop:Omen, Time:2022-05-29 00:58:19.950724\n",
      "=========================================================================\n",
      "Emma is a data scientist\n"
     ]
    }
   ],
   "source": [
    "print(\"Piyush Raisinghani, Laptop:{0}, Time:{1}\".format(socket.gethostname(), dt.datetime.now()))\n",
    "print(\"=========================================================================\")\n",
    "\n",
    "str1 = \"Emma-is-a-data-scientist\"\n",
    "print(\" \".join(str1.split(\"-\")))"
   ]
  },
  {
   "cell_type": "markdown",
   "metadata": {},
   "source": [
    "Exercise 14: Remove empty strings from a list of strings"
   ]
  },
  {
   "cell_type": "code",
   "execution_count": 59,
   "metadata": {},
   "outputs": [
    {
     "name": "stdout",
     "output_type": "stream",
     "text": [
      "Piyush Raisinghani, Laptop:Omen, Time:2022-05-29 01:00:44.791485\n",
      "=========================================================================\n",
      "['Emma', 'Jon', 'Kelly', 'Eric']\n"
     ]
    }
   ],
   "source": [
    "print(\"Piyush Raisinghani, Laptop:{0}, Time:{1}\".format(socket.gethostname(), dt.datetime.now()))\n",
    "print(\"=========================================================================\")\n",
    "\n",
    "str_list = [\"Emma\", \"Jon\", \"\", \"Kelly\", None, \"Eric\", \"\"]\n",
    "for i in str_list:\n",
    "    if i == \"\" or i is None:\n",
    "        str_list.remove(i)\n",
    "print(str_list)"
   ]
  },
  {
   "cell_type": "markdown",
   "metadata": {},
   "source": [
    "Exercise 15: Remove special symbols / punctuation from a string"
   ]
  },
  {
   "cell_type": "code",
   "execution_count": 64,
   "metadata": {},
   "outputs": [
    {
     "name": "stdout",
     "output_type": "stream",
     "text": [
      "Piyush Raisinghani, Laptop:Omen, Time:2022-05-29 01:04:27.443329\n",
      "=========================================================================\n",
      "Jon is developer  musician\n"
     ]
    }
   ],
   "source": [
    "print(\"Piyush Raisinghani, Laptop:{0}, Time:{1}\".format(socket.gethostname(), dt.datetime.now()))\n",
    "print(\"=========================================================================\")\n",
    "\n",
    "import string\n",
    "str1 = \"/*Jon is @developer & musician\"\n",
    "str2 = str1.translate(str.maketrans('', '', string.punctuation))\n",
    "print(str2)"
   ]
  },
  {
   "cell_type": "markdown",
   "metadata": {},
   "source": [
    "Exercise 16: Removal all characters from a string except integers"
   ]
  },
  {
   "cell_type": "code",
   "execution_count": 6,
   "metadata": {},
   "outputs": [
    {
     "name": "stdout",
     "output_type": "stream",
     "text": [
      "Piyush Raisinghani, Laptop:Omen, Time:2022-05-29 18:42:09.849382\n",
      "=========================================================================\n",
      "2510\n"
     ]
    }
   ],
   "source": [
    "print(\"Piyush Raisinghani, Laptop:{0}, Time:{1}\".format(socket.gethostname(), dt.datetime.now()))\n",
    "print(\"=========================================================================\")\n",
    "\n",
    "str1 = 'I am 25 years and 10 months old'\n",
    "print(\"\".join([i for i in str1 if i.isnumeric()]))"
   ]
  },
  {
   "cell_type": "markdown",
   "metadata": {},
   "source": [
    "Exercise 17: Find words with both alphabets and numbers"
   ]
  },
  {
   "cell_type": "code",
   "execution_count": 12,
   "metadata": {},
   "outputs": [
    {
     "name": "stdout",
     "output_type": "stream",
     "text": [
      "Piyush Raisinghani, Laptop:Omen, Time:2022-05-29 18:47:03.757422\n",
      "=========================================================================\n",
      "Emma25\n",
      "scientist50\n"
     ]
    }
   ],
   "source": [
    "print(\"Piyush Raisinghani, Laptop:{0}, Time:{1}\".format(socket.gethostname(), dt.datetime.now()))\n",
    "print(\"=========================================================================\")\n",
    "\n",
    "str1 = \"Emma25 is Data scientist50 and AI Expert\"\n",
    "for i in str1.split():\n",
    "    if any(j.isalpha() for j in i) and any(j.isnumeric() for j in i):\n",
    "        print(i)"
   ]
  },
  {
   "cell_type": "markdown",
   "metadata": {},
   "source": [
    "Exercise 18: Replace each special symbol with # in the following string"
   ]
  },
  {
   "cell_type": "code",
   "execution_count": 28,
   "metadata": {},
   "outputs": [
    {
     "name": "stdout",
     "output_type": "stream",
     "text": [
      "Piyush Raisinghani, Laptop:Omen, Time:2022-05-29 18:57:39.571205\n",
      "=========================================================================\n",
      "##Jon is #developer # musician##\n"
     ]
    }
   ],
   "source": [
    "print(\"Piyush Raisinghani, Laptop:{0}, Time:{1}\".format(socket.gethostname(), dt.datetime.now()))\n",
    "print(\"=========================================================================\")\n",
    "\n",
    "import string\n",
    "str1 = '/*Jon is @developer & musician!!'\n",
    "for i in str1:\n",
    "    if i in string.punctuation:\n",
    "        str1 = str1.replace(i, \"#\")\n",
    "print(str1)"
   ]
  }
 ],
 "metadata": {
  "interpreter": {
   "hash": "fa6fc890c19d0518efc3ca8fefe1ab7c2a921b84ac247755bf14d3f8c1bb1ece"
  },
  "kernelspec": {
   "display_name": "Python 3.10.1 64-bit",
   "language": "python",
   "name": "python3"
  },
  "language_info": {
   "codemirror_mode": {
    "name": "ipython",
    "version": 3
   },
   "file_extension": ".py",
   "mimetype": "text/x-python",
   "name": "python",
   "nbconvert_exporter": "python",
   "pygments_lexer": "ipython3",
   "version": "3.10.1"
  },
  "orig_nbformat": 4
 },
 "nbformat": 4,
 "nbformat_minor": 2
}
